{
  "cells": [
    {
      "cell_type": "code",
      "execution_count": null,
      "metadata": {
        "colab": {
          "base_uri": "https://localhost:8080/"
        },
        "id": "v0sZZEOeohce",
        "outputId": "3dbab38e-bdf9-4938-dec9-cb682978ef9e"
      },
      "outputs": [
        {
          "output_type": "stream",
          "name": "stdout",
          "text": [
            "Collecting ktrain\n",
            "  Downloading ktrain-0.29.2.tar.gz (25.3 MB)\n",
            "\u001b[K     |████████████████████████████████| 25.3 MB 8.5 MB/s \n",
            "\u001b[?25hCollecting scikit-learn==0.24.2\n",
            "  Downloading scikit_learn-0.24.2-cp37-cp37m-manylinux2010_x86_64.whl (22.3 MB)\n",
            "\u001b[K     |████████████████████████████████| 22.3 MB 1.6 MB/s \n",
            "\u001b[?25hRequirement already satisfied: matplotlib>=3.0.0 in /usr/local/lib/python3.7/dist-packages (from ktrain) (3.2.2)\n",
            "Requirement already satisfied: pandas>=1.0.1 in /usr/local/lib/python3.7/dist-packages (from ktrain) (1.3.5)\n",
            "Requirement already satisfied: fastprogress>=0.1.21 in /usr/local/lib/python3.7/dist-packages (from ktrain) (1.0.0)\n",
            "Requirement already satisfied: requests in /usr/local/lib/python3.7/dist-packages (from ktrain) (2.23.0)\n",
            "Requirement already satisfied: joblib in /usr/local/lib/python3.7/dist-packages (from ktrain) (1.1.0)\n",
            "Requirement already satisfied: packaging in /usr/local/lib/python3.7/dist-packages (from ktrain) (21.3)\n",
            "Collecting langdetect\n",
            "  Downloading langdetect-1.0.9.tar.gz (981 kB)\n",
            "\u001b[K     |████████████████████████████████| 981 kB 39.1 MB/s \n",
            "\u001b[?25hRequirement already satisfied: jieba in /usr/local/lib/python3.7/dist-packages (from ktrain) (0.42.1)\n",
            "Collecting cchardet\n",
            "  Downloading cchardet-2.1.7-cp37-cp37m-manylinux2010_x86_64.whl (263 kB)\n",
            "\u001b[K     |████████████████████████████████| 263 kB 45.5 MB/s \n",
            "\u001b[?25hRequirement already satisfied: chardet in /usr/local/lib/python3.7/dist-packages (from ktrain) (3.0.4)\n",
            "Collecting syntok==1.3.3\n",
            "  Downloading syntok-1.3.3-py3-none-any.whl (22 kB)\n",
            "Collecting seqeval==0.0.19\n",
            "  Downloading seqeval-0.0.19.tar.gz (30 kB)\n",
            "Collecting transformers==4.10.3\n",
            "  Downloading transformers-4.10.3-py3-none-any.whl (2.8 MB)\n",
            "\u001b[K     |████████████████████████████████| 2.8 MB 42.6 MB/s \n",
            "\u001b[?25hCollecting sentencepiece\n",
            "  Downloading sentencepiece-0.1.96-cp37-cp37m-manylinux_2_17_x86_64.manylinux2014_x86_64.whl (1.2 MB)\n",
            "\u001b[K     |████████████████████████████████| 1.2 MB 48.5 MB/s \n",
            "\u001b[?25hCollecting keras_bert>=0.86.0\n",
            "  Downloading keras-bert-0.89.0.tar.gz (25 kB)\n",
            "Collecting whoosh\n",
            "  Downloading Whoosh-2.7.4-py2.py3-none-any.whl (468 kB)\n",
            "\u001b[K     |████████████████████████████████| 468 kB 45.4 MB/s \n",
            "\u001b[?25hRequirement already satisfied: threadpoolctl>=2.0.0 in /usr/local/lib/python3.7/dist-packages (from scikit-learn==0.24.2->ktrain) (3.1.0)\n",
            "Requirement already satisfied: numpy>=1.13.3 in /usr/local/lib/python3.7/dist-packages (from scikit-learn==0.24.2->ktrain) (1.21.5)\n",
            "Requirement already satisfied: scipy>=0.19.1 in /usr/local/lib/python3.7/dist-packages (from scikit-learn==0.24.2->ktrain) (1.4.1)\n",
            "Requirement already satisfied: Keras>=2.2.4 in /usr/local/lib/python3.7/dist-packages (from seqeval==0.0.19->ktrain) (2.8.0)\n",
            "Requirement already satisfied: regex in /usr/local/lib/python3.7/dist-packages (from syntok==1.3.3->ktrain) (2019.12.20)\n",
            "Requirement already satisfied: filelock in /usr/local/lib/python3.7/dist-packages (from transformers==4.10.3->ktrain) (3.4.2)\n",
            "Collecting huggingface-hub>=0.0.12\n",
            "  Downloading huggingface_hub-0.4.0-py3-none-any.whl (67 kB)\n",
            "\u001b[K     |████████████████████████████████| 67 kB 6.4 MB/s \n",
            "\u001b[?25hRequirement already satisfied: importlib-metadata in /usr/local/lib/python3.7/dist-packages (from transformers==4.10.3->ktrain) (4.11.0)\n",
            "Collecting sacremoses\n",
            "  Downloading sacremoses-0.0.47-py2.py3-none-any.whl (895 kB)\n",
            "\u001b[K     |████████████████████████████████| 895 kB 50.2 MB/s \n",
            "\u001b[?25hCollecting tokenizers<0.11,>=0.10.1\n",
            "  Downloading tokenizers-0.10.3-cp37-cp37m-manylinux_2_5_x86_64.manylinux1_x86_64.manylinux_2_12_x86_64.manylinux2010_x86_64.whl (3.3 MB)\n",
            "\u001b[K     |████████████████████████████████| 3.3 MB 53.0 MB/s \n",
            "\u001b[?25hRequirement already satisfied: tqdm>=4.27 in /usr/local/lib/python3.7/dist-packages (from transformers==4.10.3->ktrain) (4.62.3)\n",
            "Collecting pyyaml>=5.1\n",
            "  Downloading PyYAML-6.0-cp37-cp37m-manylinux_2_5_x86_64.manylinux1_x86_64.manylinux_2_12_x86_64.manylinux2010_x86_64.whl (596 kB)\n",
            "\u001b[K     |████████████████████████████████| 596 kB 62.9 MB/s \n",
            "\u001b[?25hRequirement already satisfied: typing-extensions>=3.7.4.3 in /usr/local/lib/python3.7/dist-packages (from huggingface-hub>=0.0.12->transformers==4.10.3->ktrain) (3.10.0.2)\n",
            "Collecting keras-transformer==0.40.0\n",
            "  Downloading keras-transformer-0.40.0.tar.gz (9.7 kB)\n",
            "Collecting keras-pos-embd==0.13.0\n",
            "  Downloading keras-pos-embd-0.13.0.tar.gz (5.6 kB)\n",
            "Collecting keras-multi-head==0.29.0\n",
            "  Downloading keras-multi-head-0.29.0.tar.gz (13 kB)\n",
            "Collecting keras-layer-normalization==0.16.0\n",
            "  Downloading keras-layer-normalization-0.16.0.tar.gz (3.9 kB)\n",
            "Collecting keras-position-wise-feed-forward==0.8.0\n",
            "  Downloading keras-position-wise-feed-forward-0.8.0.tar.gz (4.1 kB)\n",
            "Collecting keras-embed-sim==0.10.0\n",
            "  Downloading keras-embed-sim-0.10.0.tar.gz (3.6 kB)\n",
            "Collecting keras-self-attention==0.51.0\n",
            "  Downloading keras-self-attention-0.51.0.tar.gz (11 kB)\n",
            "Requirement already satisfied: pyparsing!=2.0.4,!=2.1.2,!=2.1.6,>=2.0.1 in /usr/local/lib/python3.7/dist-packages (from matplotlib>=3.0.0->ktrain) (3.0.7)\n",
            "Requirement already satisfied: cycler>=0.10 in /usr/local/lib/python3.7/dist-packages (from matplotlib>=3.0.0->ktrain) (0.11.0)\n",
            "Requirement already satisfied: kiwisolver>=1.0.1 in /usr/local/lib/python3.7/dist-packages (from matplotlib>=3.0.0->ktrain) (1.3.2)\n",
            "Requirement already satisfied: python-dateutil>=2.1 in /usr/local/lib/python3.7/dist-packages (from matplotlib>=3.0.0->ktrain) (2.8.2)\n",
            "Requirement already satisfied: pytz>=2017.3 in /usr/local/lib/python3.7/dist-packages (from pandas>=1.0.1->ktrain) (2018.9)\n",
            "Requirement already satisfied: six>=1.5 in /usr/local/lib/python3.7/dist-packages (from python-dateutil>=2.1->matplotlib>=3.0.0->ktrain) (1.15.0)\n",
            "Requirement already satisfied: zipp>=0.5 in /usr/local/lib/python3.7/dist-packages (from importlib-metadata->transformers==4.10.3->ktrain) (3.7.0)\n",
            "Requirement already satisfied: certifi>=2017.4.17 in /usr/local/lib/python3.7/dist-packages (from requests->ktrain) (2021.10.8)\n",
            "Requirement already satisfied: urllib3!=1.25.0,!=1.25.1,<1.26,>=1.21.1 in /usr/local/lib/python3.7/dist-packages (from requests->ktrain) (1.24.3)\n",
            "Requirement already satisfied: idna<3,>=2.5 in /usr/local/lib/python3.7/dist-packages (from requests->ktrain) (2.10)\n",
            "Requirement already satisfied: click in /usr/local/lib/python3.7/dist-packages (from sacremoses->transformers==4.10.3->ktrain) (7.1.2)\n",
            "Building wheels for collected packages: ktrain, seqeval, keras-bert, keras-transformer, keras-embed-sim, keras-layer-normalization, keras-multi-head, keras-pos-embd, keras-position-wise-feed-forward, keras-self-attention, langdetect\n",
            "  Building wheel for ktrain (setup.py) ... \u001b[?25l\u001b[?25hdone\n",
            "  Created wheel for ktrain: filename=ktrain-0.29.2-py3-none-any.whl size=25294171 sha256=56e83aebdd5403bb45511da012fa83ad022b34f2006e05f1f1927f1f8e3c9f66\n",
            "  Stored in directory: /root/.cache/pip/wheels/db/b1/ad/94fe0ceeaa8ed0319e74773cba99b6aa6192998b1035adc295\n",
            "  Building wheel for seqeval (setup.py) ... \u001b[?25l\u001b[?25hdone\n",
            "  Created wheel for seqeval: filename=seqeval-0.0.19-py3-none-any.whl size=9931 sha256=f149a8c01aabe7584dbdfb498a3d1633b993e144deb48ecfcd47c96cc736cad8\n",
            "  Stored in directory: /root/.cache/pip/wheels/f5/ac/f1/4e13d7aff05c722d142b7d20a88ad63f9aab11b895411241a4\n",
            "  Building wheel for keras-bert (setup.py) ... \u001b[?25l\u001b[?25hdone\n",
            "  Created wheel for keras-bert: filename=keras_bert-0.89.0-py3-none-any.whl size=33517 sha256=0784367906bf2925a415e241d68efa19175b5da55a15b5d1310c48aeccaacb36\n",
            "  Stored in directory: /root/.cache/pip/wheels/a4/e8/45/842b3a39831261aef9154b907eacbc4ac99499a99ae829b06f\n",
            "  Building wheel for keras-transformer (setup.py) ... \u001b[?25l\u001b[?25hdone\n",
            "  Created wheel for keras-transformer: filename=keras_transformer-0.40.0-py3-none-any.whl size=12305 sha256=c2ddf5a33b18f263b28fd27b4618a33c9d666ca8900f044981c1987307fd9014\n",
            "  Stored in directory: /root/.cache/pip/wheels/46/68/26/692ed21edd832833c3b0a0e21615bcacd99ca458b3f9ed571f\n",
            "  Building wheel for keras-embed-sim (setup.py) ... \u001b[?25l\u001b[?25hdone\n",
            "  Created wheel for keras-embed-sim: filename=keras_embed_sim-0.10.0-py3-none-any.whl size=3960 sha256=7fea03ab8c8924c61d2b644ca4815e2af40495a9863a035004f0e7ec7e2024ae\n",
            "  Stored in directory: /root/.cache/pip/wheels/81/67/b5/d847588d075895281e1cf5590f819bd4cf076a554872268bd5\n",
            "  Building wheel for keras-layer-normalization (setup.py) ... \u001b[?25l\u001b[?25hdone\n",
            "  Created wheel for keras-layer-normalization: filename=keras_layer_normalization-0.16.0-py3-none-any.whl size=4668 sha256=72af20824d5e025af5ade5ce178bdb4338717f13a8637772034f5ec7ed2e7803\n",
            "  Stored in directory: /root/.cache/pip/wheels/85/5d/1c/2e619f594f69fbcf8bc20943b27d414871c409be053994813e\n",
            "  Building wheel for keras-multi-head (setup.py) ... \u001b[?25l\u001b[?25hdone\n",
            "  Created wheel for keras-multi-head: filename=keras_multi_head-0.29.0-py3-none-any.whl size=14993 sha256=cd77674a9f113e5a945c223fd5481801f6171f52e03fc22018ecf51c55e3456f\n",
            "  Stored in directory: /root/.cache/pip/wheels/86/aa/3c/9d15d24005179dae08ff291ce99c754b296347817d076fd9fb\n",
            "  Building wheel for keras-pos-embd (setup.py) ... \u001b[?25l\u001b[?25hdone\n",
            "  Created wheel for keras-pos-embd: filename=keras_pos_embd-0.13.0-py3-none-any.whl size=6962 sha256=e77e7afb4baafef406c1197dd674531c12483007cdac78ed16f7b18f35d4449c\n",
            "  Stored in directory: /root/.cache/pip/wheels/8d/c1/a0/dc44fcf68c857b7ff6be9a97e675e5adf51022eff1169b042f\n",
            "  Building wheel for keras-position-wise-feed-forward (setup.py) ... \u001b[?25l\u001b[?25hdone\n",
            "  Created wheel for keras-position-wise-feed-forward: filename=keras_position_wise_feed_forward-0.8.0-py3-none-any.whl size=4983 sha256=81452db35d898df04f0c0ac2d843548a7cf410c86ee49fe06adf7601ac946463\n",
            "  Stored in directory: /root/.cache/pip/wheels/c2/75/6f/d42f6e051506f442daeba53ff1e2d21a5f20ef8c411610f2bb\n",
            "  Building wheel for keras-self-attention (setup.py) ... \u001b[?25l\u001b[?25hdone\n",
            "  Created wheel for keras-self-attention: filename=keras_self_attention-0.51.0-py3-none-any.whl size=18912 sha256=c7e0635b833ab0894bf2032a927b71eb64225e57db09125c6d64d3bb984e2b7c\n",
            "  Stored in directory: /root/.cache/pip/wheels/95/b1/a8/5ee00cc137940b2f6fa198212e8f45d813d0e0d9c3a04035a3\n",
            "  Building wheel for langdetect (setup.py) ... \u001b[?25l\u001b[?25hdone\n",
            "  Created wheel for langdetect: filename=langdetect-1.0.9-py3-none-any.whl size=993242 sha256=1247e76d6236b33835e8b145fc89c727f65d5b0992f22fff0d513f3270b3937f\n",
            "  Stored in directory: /root/.cache/pip/wheels/c5/96/8a/f90c59ed25d75e50a8c10a1b1c2d4c402e4dacfa87f3aff36a\n",
            "Successfully built ktrain seqeval keras-bert keras-transformer keras-embed-sim keras-layer-normalization keras-multi-head keras-pos-embd keras-position-wise-feed-forward keras-self-attention langdetect\n",
            "Installing collected packages: keras-self-attention, pyyaml, keras-position-wise-feed-forward, keras-pos-embd, keras-multi-head, keras-layer-normalization, keras-embed-sim, tokenizers, sacremoses, keras-transformer, huggingface-hub, whoosh, transformers, syntok, seqeval, sentencepiece, scikit-learn, langdetect, keras-bert, cchardet, ktrain\n",
            "  Attempting uninstall: pyyaml\n",
            "    Found existing installation: PyYAML 3.13\n",
            "    Uninstalling PyYAML-3.13:\n",
            "      Successfully uninstalled PyYAML-3.13\n",
            "  Attempting uninstall: scikit-learn\n",
            "    Found existing installation: scikit-learn 1.0.2\n",
            "    Uninstalling scikit-learn-1.0.2:\n",
            "      Successfully uninstalled scikit-learn-1.0.2\n",
            "Successfully installed cchardet-2.1.7 huggingface-hub-0.4.0 keras-bert-0.89.0 keras-embed-sim-0.10.0 keras-layer-normalization-0.16.0 keras-multi-head-0.29.0 keras-pos-embd-0.13.0 keras-position-wise-feed-forward-0.8.0 keras-self-attention-0.51.0 keras-transformer-0.40.0 ktrain-0.29.2 langdetect-1.0.9 pyyaml-6.0 sacremoses-0.0.47 scikit-learn-0.24.2 sentencepiece-0.1.96 seqeval-0.0.19 syntok-1.3.3 tokenizers-0.10.3 transformers-4.10.3 whoosh-2.7.4\n"
          ]
        }
      ],
      "source": [
        "!pip3 install ktrain\n",
        "import pandas as pd\n",
        "import numpy as np\n",
        " \n",
        "import ktrain\n",
        "from ktrain import text"
      ]
    },
    {
      "cell_type": "code",
      "execution_count": null,
      "metadata": {
        "colab": {
          "base_uri": "https://localhost:8080/"
        },
        "id": "mLDxIhx0olsL",
        "outputId": "8b4b3c0c-8a8e-400d-9265-ce7e11cf5f0a"
      },
      "outputs": [
        {
          "output_type": "stream",
          "name": "stdout",
          "text": [
            "Mounted at /content/drive\n"
          ]
        }
      ],
      "source": [
        "from google.colab import drive\n",
        "drive.mount('/content/drive')"
      ]
    },
    {
      "cell_type": "code",
      "execution_count": null,
      "metadata": {
        "id": "IEgReIxnooc0"
      },
      "outputs": [],
      "source": [
        "data = pd.read_excel(\"/content/drive/MyDrive/NewsComments/Dataset/news_comments.xlsx\")"
      ]
    },
    {
      "cell_type": "code",
      "execution_count": null,
      "metadata": {
        "id": "YNZS2mP-oqWj"
      },
      "outputs": [],
      "source": [
        "data.sort_values(by='Class', axis=0, inplace=True)\n",
        "\n",
        "data.set_index(keys=['Class'], drop=False,inplace=True)\n",
        "\n",
        "Emojis=data['Class'].unique().tolist()"
      ]
    },
    {
      "cell_type": "code",
      "execution_count": null,
      "metadata": {
        "colab": {
          "base_uri": "https://localhost:8080/",
          "height": 510
        },
        "id": "E_pxMd1tor2V",
        "outputId": "10b86752-8279-4f07-bc02-b51011968e49"
      },
      "outputs": [
        {
          "output_type": "stream",
          "name": "stdout",
          "text": [
            "size of training set: 13802\n",
            "size of validation set: 13802\n",
            "Very Negative    7856\n",
            "Negative         6396\n",
            "Neutral          5902\n",
            "Very Positive    4560\n",
            "Positive         2890\n",
            "Name: Class, dtype: int64\n"
          ]
        },
        {
          "output_type": "execute_result",
          "data": {
            "text/html": [
              "\n",
              "  <div id=\"df-9467e4c3-3a17-4926-8c54-5efaf0bafb81\">\n",
              "    <div class=\"colab-df-container\">\n",
              "      <div>\n",
              "<style scoped>\n",
              "    .dataframe tbody tr th:only-of-type {\n",
              "        vertical-align: middle;\n",
              "    }\n",
              "\n",
              "    .dataframe tbody tr th {\n",
              "        vertical-align: top;\n",
              "    }\n",
              "\n",
              "    .dataframe thead th {\n",
              "        text-align: right;\n",
              "    }\n",
              "</style>\n",
              "<table border=\"1\" class=\"dataframe\">\n",
              "  <thead>\n",
              "    <tr style=\"text-align: right;\">\n",
              "      <th></th>\n",
              "      <th>SL</th>\n",
              "      <th>Data</th>\n",
              "      <th>Class</th>\n",
              "    </tr>\n",
              "  </thead>\n",
              "  <tbody>\n",
              "    <tr>\n",
              "      <th>0</th>\n",
              "      <td>0.0</td>\n",
              "      <td>লিখার সময় পারলে সত্য লিখার অভ্যাস শিখুন।</td>\n",
              "      <td>Negative</td>\n",
              "    </tr>\n",
              "    <tr>\n",
              "      <th>1</th>\n",
              "      <td>1.0</td>\n",
              "      <td>এটা কেন হচ্ছে? সংশ্লিষ্ট সকলের ডিপ্রেশনের ফলে?...</td>\n",
              "      <td>Negative</td>\n",
              "    </tr>\n",
              "    <tr>\n",
              "      <th>2</th>\n",
              "      <td>2.0</td>\n",
              "      <td>আমাদের দেশের স্বাভাবিক অর্থনৈতিক গতিপ্রবাহকে ব...</td>\n",
              "      <td>Very Negative</td>\n",
              "    </tr>\n",
              "    <tr>\n",
              "      <th>3</th>\n",
              "      <td>3.0</td>\n",
              "      <td>চুরি নয় লুটপাট।</td>\n",
              "      <td>Very Negative</td>\n",
              "    </tr>\n",
              "    <tr>\n",
              "      <th>4</th>\n",
              "      <td>4.0</td>\n",
              "      <td>ইসলামী ব্যাংকের বর্তমান অবস্থা দেখে মনে হয় শাস...</td>\n",
              "      <td>Neutral</td>\n",
              "    </tr>\n",
              "    <tr>\n",
              "      <th>5</th>\n",
              "      <td>5.0</td>\n",
              "      <td>একটা ভাল প্রতিষ্ঠান কিভাবে লুট হয়ে যাচেছ!</td>\n",
              "      <td>Very Negative</td>\n",
              "    </tr>\n",
              "    <tr>\n",
              "      <th>6</th>\n",
              "      <td>6.0</td>\n",
              "      <td>সরকার যাদের এই ব্যাংকে নিয়গ দিয়েছে তারা ব্যাংক...</td>\n",
              "      <td>Very Negative</td>\n",
              "    </tr>\n",
              "    <tr>\n",
              "      <th>7</th>\n",
              "      <td>7.0</td>\n",
              "      <td>পুরোপুরি আওয়ামীকরন হলেই আর এর অসতিতই থাকবেক না!</td>\n",
              "      <td>Negative</td>\n",
              "    </tr>\n",
              "    <tr>\n",
              "      <th>8</th>\n",
              "      <td>8.0</td>\n",
              "      <td>এককথায় ব্যাংকটিতে ডাকাতি হয়েছে এবং হতেই থাকবে।</td>\n",
              "      <td>Negative</td>\n",
              "    </tr>\n",
              "    <tr>\n",
              "      <th>9</th>\n",
              "      <td>9.0</td>\n",
              "      <td>ইসলামি ব্যাংক প্রারম্ভ থেকেই গ্রাহকদের পছন্দের...</td>\n",
              "      <td>Negative</td>\n",
              "    </tr>\n",
              "  </tbody>\n",
              "</table>\n",
              "</div>\n",
              "      <button class=\"colab-df-convert\" onclick=\"convertToInteractive('df-9467e4c3-3a17-4926-8c54-5efaf0bafb81')\"\n",
              "              title=\"Convert this dataframe to an interactive table.\"\n",
              "              style=\"display:none;\">\n",
              "        \n",
              "  <svg xmlns=\"http://www.w3.org/2000/svg\" height=\"24px\"viewBox=\"0 0 24 24\"\n",
              "       width=\"24px\">\n",
              "    <path d=\"M0 0h24v24H0V0z\" fill=\"none\"/>\n",
              "    <path d=\"M18.56 5.44l.94 2.06.94-2.06 2.06-.94-2.06-.94-.94-2.06-.94 2.06-2.06.94zm-11 1L8.5 8.5l.94-2.06 2.06-.94-2.06-.94L8.5 2.5l-.94 2.06-2.06.94zm10 10l.94 2.06.94-2.06 2.06-.94-2.06-.94-.94-2.06-.94 2.06-2.06.94z\"/><path d=\"M17.41 7.96l-1.37-1.37c-.4-.4-.92-.59-1.43-.59-.52 0-1.04.2-1.43.59L10.3 9.45l-7.72 7.72c-.78.78-.78 2.05 0 2.83L4 21.41c.39.39.9.59 1.41.59.51 0 1.02-.2 1.41-.59l7.78-7.78 2.81-2.81c.8-.78.8-2.07 0-2.86zM5.41 20L4 18.59l7.72-7.72 1.47 1.35L5.41 20z\"/>\n",
              "  </svg>\n",
              "      </button>\n",
              "      \n",
              "  <style>\n",
              "    .colab-df-container {\n",
              "      display:flex;\n",
              "      flex-wrap:wrap;\n",
              "      gap: 12px;\n",
              "    }\n",
              "\n",
              "    .colab-df-convert {\n",
              "      background-color: #E8F0FE;\n",
              "      border: none;\n",
              "      border-radius: 50%;\n",
              "      cursor: pointer;\n",
              "      display: none;\n",
              "      fill: #1967D2;\n",
              "      height: 32px;\n",
              "      padding: 0 0 0 0;\n",
              "      width: 32px;\n",
              "    }\n",
              "\n",
              "    .colab-df-convert:hover {\n",
              "      background-color: #E2EBFA;\n",
              "      box-shadow: 0px 1px 2px rgba(60, 64, 67, 0.3), 0px 1px 3px 1px rgba(60, 64, 67, 0.15);\n",
              "      fill: #174EA6;\n",
              "    }\n",
              "\n",
              "    [theme=dark] .colab-df-convert {\n",
              "      background-color: #3B4455;\n",
              "      fill: #D2E3FC;\n",
              "    }\n",
              "\n",
              "    [theme=dark] .colab-df-convert:hover {\n",
              "      background-color: #434B5C;\n",
              "      box-shadow: 0px 1px 3px 1px rgba(0, 0, 0, 0.15);\n",
              "      filter: drop-shadow(0px 1px 2px rgba(0, 0, 0, 0.3));\n",
              "      fill: #FFFFFF;\n",
              "    }\n",
              "  </style>\n",
              "\n",
              "      <script>\n",
              "        const buttonEl =\n",
              "          document.querySelector('#df-9467e4c3-3a17-4926-8c54-5efaf0bafb81 button.colab-df-convert');\n",
              "        buttonEl.style.display =\n",
              "          google.colab.kernel.accessAllowed ? 'block' : 'none';\n",
              "\n",
              "        async function convertToInteractive(key) {\n",
              "          const element = document.querySelector('#df-9467e4c3-3a17-4926-8c54-5efaf0bafb81');\n",
              "          const dataTable =\n",
              "            await google.colab.kernel.invokeFunction('convertToInteractive',\n",
              "                                                     [key], {});\n",
              "          if (!dataTable) return;\n",
              "\n",
              "          const docLinkHtml = 'Like what you see? Visit the ' +\n",
              "            '<a target=\"_blank\" href=https://colab.research.google.com/notebooks/data_table.ipynb>data table notebook</a>'\n",
              "            + ' to learn more about interactive tables.';\n",
              "          element.innerHTML = '';\n",
              "          dataTable['output_type'] = 'display_data';\n",
              "          await google.colab.output.renderOutput(dataTable, element);\n",
              "          const docLink = document.createElement('div');\n",
              "          docLink.innerHTML = docLinkHtml;\n",
              "          element.appendChild(docLink);\n",
              "        }\n",
              "      </script>\n",
              "    </div>\n",
              "  </div>\n",
              "  "
            ],
            "text/plain": [
              "    SL                                               Data          Class\n",
              "0  0.0           লিখার সময় পারলে সত্য লিখার অভ্যাস শিখুন।       Negative\n",
              "1  1.0  এটা কেন হচ্ছে? সংশ্লিষ্ট সকলের ডিপ্রেশনের ফলে?...       Negative\n",
              "2  2.0  আমাদের দেশের স্বাভাবিক অর্থনৈতিক গতিপ্রবাহকে ব...  Very Negative\n",
              "3  3.0                                    চুরি নয় লুটপাট।  Very Negative\n",
              "4  4.0  ইসলামী ব্যাংকের বর্তমান অবস্থা দেখে মনে হয় শাস...        Neutral\n",
              "5  5.0          একটা ভাল প্রতিষ্ঠান কিভাবে লুট হয়ে যাচেছ!  Very Negative\n",
              "6  6.0  সরকার যাদের এই ব্যাংকে নিয়গ দিয়েছে তারা ব্যাংক...  Very Negative\n",
              "7  7.0    পুরোপুরি আওয়ামীকরন হলেই আর এর অসতিতই থাকবেক না!       Negative\n",
              "8  8.0     এককথায় ব্যাংকটিতে ডাকাতি হয়েছে এবং হতেই থাকবে।       Negative\n",
              "9  9.0  ইসলামি ব্যাংক প্রারম্ভ থেকেই গ্রাহকদের পছন্দের...       Negative"
            ]
          },
          "metadata": {},
          "execution_count": 5
        }
      ],
      "source": [
        "data_train = pd.read_excel('/content/drive/MyDrive/NewsComments/Dataset/news_comments.xlsx')\n",
        "data_train['Data'] = data_train['Data'].astype(str)\n",
        "\n",
        "data_test = pd.read_excel('/content/drive/MyDrive/NewsComments/Dataset/news_comments.xlsx')\n",
        "data_test['Data'] = data_train['Data'].astype(str)\n",
        "\n",
        "\n",
        "X_train = data_train.Data.tolist()\n",
        "X_test = data_test.Data.tolist()\n",
        "\n",
        "y_train = data_train.Class.tolist()\n",
        "y_test = data_test.Class.tolist()\n",
        "\n",
        "data = data_train.append(data_test, ignore_index=True)\n",
        "\n",
        "class_names = ['Positive', 'Very Positive', 'Neutral','Negative', 'Very Negative']\n",
        "\n",
        "print('size of training set: %s' % (len(data_train['Data'])))\n",
        "print('size of validation set: %s' % (len(data_test['Data'])))\n",
        "print(data.Class.value_counts())\n",
        "\n",
        "data.head(10)"
      ]
    },
    {
      "cell_type": "code",
      "execution_count": null,
      "metadata": {
        "id": "yRb9iVf8ouKb"
      },
      "outputs": [],
      "source": [
        "encoding = {\n",
        "    'Positive': 0,\n",
        "    'Very Positive': 1,\n",
        "    'Neutral': 2,\n",
        "    'Negative': 3,\n",
        "    'Very Negative': 4\n",
        "}\n",
        "\n",
        "# Integer values for each class\n",
        "y_train = [encoding[x] for x in y_train]\n",
        "y_test = [encoding[x] for x in y_test]"
      ]
    },
    {
      "cell_type": "code",
      "execution_count": null,
      "metadata": {
        "colab": {
          "base_uri": "https://localhost:8080/"
        },
        "id": "65WiS_idoxdN",
        "outputId": "5857696b-870e-46b7-cb62-7c3d1da8f2f8"
      },
      "outputs": [
        {
          "output_type": "stream",
          "name": "stdout",
          "text": [
            "language: bn\n",
            "Word Counts: 38495\n",
            "Nrows: 13802\n",
            "13802 train sequences\n",
            "train sequence lengths:\n",
            "\tmean : 20\n",
            "\t95percentile : 57\n",
            "\t99percentile : 83\n",
            "x_train shape: (13802,1000)\n",
            "y_train shape: (13802, 5)\n",
            "Is Multi-Label? False\n",
            "13802 test sequences\n",
            "test sequence lengths:\n",
            "\tmean : 20\n",
            "\t95percentile : 57\n",
            "\t99percentile : 83\n",
            "x_test shape: (13802,1000)\n",
            "y_test shape: (13802, 5)\n",
            "task: text classification\n"
          ]
        }
      ],
      "source": [
        "(x_train,  y_train), (x_test, y_test), preproc = text.texts_from_array(x_train=X_train, y_train=y_train,\n",
        "                                                                       x_test=X_test, y_test=y_test,\n",
        "                                                                       class_names=class_names,\n",
        "                                                                       preprocess_mode='standard',\n",
        "                                                                       maxlen=1000, \n",
        "                                                                       max_features=350000)"
      ]
    },
    {
      "cell_type": "code",
      "execution_count": null,
      "metadata": {
        "colab": {
          "base_uri": "https://localhost:8080/"
        },
        "id": "-nEBrE_wo0M8",
        "outputId": "4ad73553-b124-4b3d-b966-d00adb77fadb"
      },
      "outputs": [
        {
          "output_type": "stream",
          "name": "stdout",
          "text": [
            "Is Multi-Label? False\n",
            "compiling word ID features...\n",
            "maxlen is 1000\n",
            "done.\n"
          ]
        }
      ],
      "source": [
        "model = text.text_classifier('fasttext', train_data=(x_train, y_train), preproc=preproc)"
      ]
    },
    {
      "cell_type": "code",
      "execution_count": null,
      "metadata": {
        "id": "RfxCMgybo2Mm"
      },
      "outputs": [],
      "source": [
        "learner = ktrain.get_learner(model, train_data=(x_train, y_train), \n",
        "                             val_data=(x_test, y_test),\n",
        "                             batch_size=512)"
      ]
    },
    {
      "cell_type": "code",
      "execution_count": null,
      "metadata": {
        "colab": {
          "base_uri": "https://localhost:8080/"
        },
        "id": "gfA0Vsc1o30Q",
        "outputId": "7910c443-ae67-470a-a3ca-af4e42a3f7f4"
      },
      "outputs": [
        {
          "output_type": "stream",
          "name": "stdout",
          "text": [
            "\n",
            "\n",
            "begin training using onecycle policy with max lr of 2e-05...\n",
            "Epoch 1/250\n",
            "27/27 [==============================] - 7s 49ms/step - loss: 2.1090 - accuracy: 0.2126 - val_loss: 1.6041 - val_accuracy: 0.2851\n",
            "Epoch 2/250\n",
            "27/27 [==============================] - 1s 40ms/step - loss: 2.1099 - accuracy: 0.2105 - val_loss: 1.6046 - val_accuracy: 0.2849\n",
            "Epoch 3/250\n",
            "27/27 [==============================] - 1s 39ms/step - loss: 2.0840 - accuracy: 0.2221 - val_loss: 1.6050 - val_accuracy: 0.2842\n",
            "Epoch 4/250\n",
            "27/27 [==============================] - 1s 41ms/step - loss: 2.1134 - accuracy: 0.2153 - val_loss: 1.6053 - val_accuracy: 0.2823\n",
            "Epoch 5/250\n",
            "27/27 [==============================] - 1s 39ms/step - loss: 2.1008 - accuracy: 0.2182 - val_loss: 1.6054 - val_accuracy: 0.2805\n",
            "Epoch 6/250\n",
            "27/27 [==============================] - 1s 41ms/step - loss: 2.1164 - accuracy: 0.2140 - val_loss: 1.6055 - val_accuracy: 0.2781\n",
            "Epoch 7/250\n",
            "27/27 [==============================] - 1s 40ms/step - loss: 2.1115 - accuracy: 0.2111 - val_loss: 1.6054 - val_accuracy: 0.2745\n",
            "Epoch 8/250\n",
            "27/27 [==============================] - 1s 40ms/step - loss: 2.0876 - accuracy: 0.2182 - val_loss: 1.6053 - val_accuracy: 0.2708\n",
            "Epoch 9/250\n",
            "27/27 [==============================] - 1s 40ms/step - loss: 2.0847 - accuracy: 0.2176 - val_loss: 1.6050 - val_accuracy: 0.2698\n",
            "Epoch 10/250\n",
            "27/27 [==============================] - 1s 40ms/step - loss: 2.0881 - accuracy: 0.2166 - val_loss: 1.6048 - val_accuracy: 0.2674\n",
            "Epoch 11/250\n",
            "27/27 [==============================] - 1s 40ms/step - loss: 2.0800 - accuracy: 0.2228 - val_loss: 1.6045 - val_accuracy: 0.2647\n",
            "Epoch 12/250\n",
            "27/27 [==============================] - 1s 39ms/step - loss: 2.0959 - accuracy: 0.2148 - val_loss: 1.6041 - val_accuracy: 0.2627\n",
            "Epoch 13/250\n",
            "27/27 [==============================] - 1s 39ms/step - loss: 2.0990 - accuracy: 0.2116 - val_loss: 1.6038 - val_accuracy: 0.2612\n",
            "Epoch 14/250\n",
            "27/27 [==============================] - 1s 40ms/step - loss: 2.0850 - accuracy: 0.2205 - val_loss: 1.6034 - val_accuracy: 0.2599\n",
            "Epoch 15/250\n",
            "27/27 [==============================] - 1s 41ms/step - loss: 2.0742 - accuracy: 0.2139 - val_loss: 1.6031 - val_accuracy: 0.2597\n",
            "Epoch 16/250\n",
            "27/27 [==============================] - 1s 40ms/step - loss: 2.0854 - accuracy: 0.2182 - val_loss: 1.6027 - val_accuracy: 0.2591\n",
            "Epoch 17/250\n",
            "27/27 [==============================] - 1s 39ms/step - loss: 2.0833 - accuracy: 0.2166 - val_loss: 1.6025 - val_accuracy: 0.2592\n",
            "Epoch 18/250\n",
            "27/27 [==============================] - 1s 39ms/step - loss: 2.0750 - accuracy: 0.2203 - val_loss: 1.6023 - val_accuracy: 0.2598\n",
            "Epoch 19/250\n",
            "27/27 [==============================] - 1s 40ms/step - loss: 2.0720 - accuracy: 0.2158 - val_loss: 1.6023 - val_accuracy: 0.2604\n",
            "Epoch 20/250\n",
            "27/27 [==============================] - 1s 39ms/step - loss: 2.0730 - accuracy: 0.2153 - val_loss: 1.6023 - val_accuracy: 0.2605\n",
            "Epoch 21/250\n",
            "27/27 [==============================] - 1s 41ms/step - loss: 2.0535 - accuracy: 0.2234 - val_loss: 1.6025 - val_accuracy: 0.2608\n",
            "Epoch 22/250\n",
            "27/27 [==============================] - 1s 39ms/step - loss: 2.0532 - accuracy: 0.2166 - val_loss: 1.6026 - val_accuracy: 0.2614\n",
            "Epoch 23/250\n",
            "27/27 [==============================] - 1s 40ms/step - loss: 2.0425 - accuracy: 0.2219 - val_loss: 1.6031 - val_accuracy: 0.2621\n",
            "Epoch 24/250\n",
            "27/27 [==============================] - 1s 40ms/step - loss: 2.0427 - accuracy: 0.2260 - val_loss: 1.6036 - val_accuracy: 0.2624\n",
            "Epoch 25/250\n",
            "27/27 [==============================] - 1s 39ms/step - loss: 2.0655 - accuracy: 0.2158 - val_loss: 1.6038 - val_accuracy: 0.2633\n",
            "Epoch 26/250\n",
            "27/27 [==============================] - 1s 41ms/step - loss: 2.0460 - accuracy: 0.2250 - val_loss: 1.6040 - val_accuracy: 0.2640\n",
            "Epoch 27/250\n",
            "27/27 [==============================] - 1s 40ms/step - loss: 2.0422 - accuracy: 0.2271 - val_loss: 1.6041 - val_accuracy: 0.2645\n",
            "Epoch 28/250\n",
            "27/27 [==============================] - 1s 39ms/step - loss: 2.0205 - accuracy: 0.2208 - val_loss: 1.6039 - val_accuracy: 0.2659\n",
            "Epoch 29/250\n",
            "27/27 [==============================] - 1s 39ms/step - loss: 2.0373 - accuracy: 0.2266 - val_loss: 1.6038 - val_accuracy: 0.2672\n",
            "Epoch 30/250\n",
            "27/27 [==============================] - 1s 41ms/step - loss: 2.0349 - accuracy: 0.2182 - val_loss: 1.6036 - val_accuracy: 0.2678\n",
            "Epoch 31/250\n",
            "27/27 [==============================] - 1s 40ms/step - loss: 2.0371 - accuracy: 0.2233 - val_loss: 1.6030 - val_accuracy: 0.2692\n",
            "Epoch 32/250\n",
            "27/27 [==============================] - 1s 40ms/step - loss: 2.0294 - accuracy: 0.2205 - val_loss: 1.6020 - val_accuracy: 0.2704\n",
            "Epoch 33/250\n",
            "27/27 [==============================] - 1s 41ms/step - loss: 2.0322 - accuracy: 0.2221 - val_loss: 1.6013 - val_accuracy: 0.2712\n",
            "Epoch 34/250\n",
            "27/27 [==============================] - 1s 39ms/step - loss: 2.0337 - accuracy: 0.2224 - val_loss: 1.6004 - val_accuracy: 0.2732\n",
            "Epoch 35/250\n",
            "27/27 [==============================] - 1s 39ms/step - loss: 2.0216 - accuracy: 0.2258 - val_loss: 1.5995 - val_accuracy: 0.2737\n",
            "Epoch 36/250\n",
            "27/27 [==============================] - 1s 40ms/step - loss: 2.0269 - accuracy: 0.2219 - val_loss: 1.5986 - val_accuracy: 0.2747\n",
            "Epoch 37/250\n",
            "27/27 [==============================] - 1s 39ms/step - loss: 2.0200 - accuracy: 0.2194 - val_loss: 1.5976 - val_accuracy: 0.2757\n",
            "Epoch 38/250\n",
            "27/27 [==============================] - 1s 39ms/step - loss: 2.0151 - accuracy: 0.2216 - val_loss: 1.5964 - val_accuracy: 0.2774\n",
            "Epoch 39/250\n",
            "27/27 [==============================] - 1s 41ms/step - loss: 2.0215 - accuracy: 0.2203 - val_loss: 1.5951 - val_accuracy: 0.2781\n",
            "Epoch 40/250\n",
            "27/27 [==============================] - 1s 46ms/step - loss: 2.0089 - accuracy: 0.2248 - val_loss: 1.5940 - val_accuracy: 0.2792\n",
            "Epoch 41/250\n",
            "27/27 [==============================] - 1s 40ms/step - loss: 2.0065 - accuracy: 0.2211 - val_loss: 1.5928 - val_accuracy: 0.2812\n",
            "Epoch 42/250\n",
            "27/27 [==============================] - 1s 40ms/step - loss: 2.0079 - accuracy: 0.2259 - val_loss: 1.5917 - val_accuracy: 0.2824\n",
            "Epoch 43/250\n",
            "27/27 [==============================] - 1s 39ms/step - loss: 2.0171 - accuracy: 0.2202 - val_loss: 1.5903 - val_accuracy: 0.2839\n",
            "Epoch 44/250\n",
            "27/27 [==============================] - 1s 40ms/step - loss: 2.0058 - accuracy: 0.2244 - val_loss: 1.5889 - val_accuracy: 0.2859\n",
            "Epoch 45/250\n",
            "27/27 [==============================] - 1s 41ms/step - loss: 1.9875 - accuracy: 0.2284 - val_loss: 1.5877 - val_accuracy: 0.2875\n",
            "Epoch 46/250\n",
            "27/27 [==============================] - 1s 41ms/step - loss: 1.9925 - accuracy: 0.2279 - val_loss: 1.5865 - val_accuracy: 0.2892\n",
            "Epoch 47/250\n",
            "27/27 [==============================] - 1s 41ms/step - loss: 1.9811 - accuracy: 0.2297 - val_loss: 1.5851 - val_accuracy: 0.2909\n",
            "Epoch 48/250\n",
            "27/27 [==============================] - 1s 40ms/step - loss: 1.9710 - accuracy: 0.2258 - val_loss: 1.5839 - val_accuracy: 0.2927\n",
            "Epoch 49/250\n",
            "27/27 [==============================] - 1s 40ms/step - loss: 1.9712 - accuracy: 0.2274 - val_loss: 1.5825 - val_accuracy: 0.2941\n",
            "Epoch 50/250\n",
            "27/27 [==============================] - 1s 39ms/step - loss: 1.9781 - accuracy: 0.2216 - val_loss: 1.5813 - val_accuracy: 0.2959\n",
            "Epoch 51/250\n",
            "27/27 [==============================] - 1s 40ms/step - loss: 1.9742 - accuracy: 0.2273 - val_loss: 1.5801 - val_accuracy: 0.2967\n",
            "Epoch 52/250\n",
            "27/27 [==============================] - 1s 39ms/step - loss: 1.9664 - accuracy: 0.2278 - val_loss: 1.5788 - val_accuracy: 0.2981\n",
            "Epoch 53/250\n",
            "27/27 [==============================] - 1s 39ms/step - loss: 1.9760 - accuracy: 0.2249 - val_loss: 1.5775 - val_accuracy: 0.3012\n",
            "Epoch 54/250\n",
            "27/27 [==============================] - 1s 39ms/step - loss: 1.9569 - accuracy: 0.2305 - val_loss: 1.5759 - val_accuracy: 0.3034\n",
            "Epoch 55/250\n",
            "27/27 [==============================] - 1s 40ms/step - loss: 1.9543 - accuracy: 0.2332 - val_loss: 1.5746 - val_accuracy: 0.3056\n",
            "Epoch 56/250\n",
            "27/27 [==============================] - 1s 39ms/step - loss: 1.9570 - accuracy: 0.2261 - val_loss: 1.5733 - val_accuracy: 0.3078\n",
            "Epoch 57/250\n",
            "27/27 [==============================] - 1s 40ms/step - loss: 1.9569 - accuracy: 0.2300 - val_loss: 1.5721 - val_accuracy: 0.3094\n",
            "Epoch 58/250\n",
            "27/27 [==============================] - 1s 40ms/step - loss: 1.9497 - accuracy: 0.2322 - val_loss: 1.5709 - val_accuracy: 0.3112\n",
            "Epoch 59/250\n",
            "27/27 [==============================] - 1s 41ms/step - loss: 1.9305 - accuracy: 0.2379 - val_loss: 1.5694 - val_accuracy: 0.3128\n",
            "Epoch 60/250\n",
            "27/27 [==============================] - 1s 41ms/step - loss: 1.9306 - accuracy: 0.2303 - val_loss: 1.5680 - val_accuracy: 0.3152\n",
            "Epoch 61/250\n",
            "27/27 [==============================] - 1s 39ms/step - loss: 1.9355 - accuracy: 0.2341 - val_loss: 1.5666 - val_accuracy: 0.3179\n",
            "Epoch 62/250\n",
            "27/27 [==============================] - 1s 39ms/step - loss: 1.9297 - accuracy: 0.2358 - val_loss: 1.5651 - val_accuracy: 0.3197\n",
            "Epoch 63/250\n",
            "27/27 [==============================] - 1s 40ms/step - loss: 1.9276 - accuracy: 0.2327 - val_loss: 1.5639 - val_accuracy: 0.3215\n",
            "Epoch 64/250\n",
            "27/27 [==============================] - 1s 40ms/step - loss: 1.9152 - accuracy: 0.2318 - val_loss: 1.5625 - val_accuracy: 0.3252\n",
            "Epoch 65/250\n",
            "27/27 [==============================] - 1s 39ms/step - loss: 1.9136 - accuracy: 0.2350 - val_loss: 1.5612 - val_accuracy: 0.3276\n",
            "Epoch 66/250\n",
            "27/27 [==============================] - 1s 39ms/step - loss: 1.9197 - accuracy: 0.2255 - val_loss: 1.5598 - val_accuracy: 0.3295\n",
            "Epoch 67/250\n",
            "27/27 [==============================] - 1s 41ms/step - loss: 1.9192 - accuracy: 0.2307 - val_loss: 1.5586 - val_accuracy: 0.3321\n",
            "Epoch 68/250\n",
            "27/27 [==============================] - 1s 41ms/step - loss: 1.9190 - accuracy: 0.2342 - val_loss: 1.5572 - val_accuracy: 0.3346\n",
            "Epoch 69/250\n",
            "27/27 [==============================] - 1s 40ms/step - loss: 1.9139 - accuracy: 0.2300 - val_loss: 1.5559 - val_accuracy: 0.3375\n",
            "Epoch 70/250\n",
            "27/27 [==============================] - 1s 39ms/step - loss: 1.9078 - accuracy: 0.2325 - val_loss: 1.5544 - val_accuracy: 0.3392\n",
            "Epoch 71/250\n",
            "27/27 [==============================] - 1s 40ms/step - loss: 1.8908 - accuracy: 0.2379 - val_loss: 1.5532 - val_accuracy: 0.3418\n",
            "Epoch 72/250\n",
            "27/27 [==============================] - 1s 41ms/step - loss: 1.9019 - accuracy: 0.2342 - val_loss: 1.5519 - val_accuracy: 0.3436\n",
            "Epoch 73/250\n",
            "27/27 [==============================] - 1s 40ms/step - loss: 1.8875 - accuracy: 0.2390 - val_loss: 1.5506 - val_accuracy: 0.3474\n",
            "Epoch 74/250\n",
            "27/27 [==============================] - 1s 39ms/step - loss: 1.9019 - accuracy: 0.2353 - val_loss: 1.5490 - val_accuracy: 0.3482\n",
            "Epoch 75/250\n",
            "27/27 [==============================] - 1s 40ms/step - loss: 1.8982 - accuracy: 0.2355 - val_loss: 1.5476 - val_accuracy: 0.3508\n",
            "Epoch 76/250\n",
            "27/27 [==============================] - 1s 41ms/step - loss: 1.8809 - accuracy: 0.2352 - val_loss: 1.5465 - val_accuracy: 0.3543\n",
            "Epoch 77/250\n",
            "27/27 [==============================] - 1s 40ms/step - loss: 1.8720 - accuracy: 0.2392 - val_loss: 1.5452 - val_accuracy: 0.3560\n",
            "Epoch 78/250\n",
            "27/27 [==============================] - 1s 41ms/step - loss: 1.8593 - accuracy: 0.2412 - val_loss: 1.5438 - val_accuracy: 0.3595\n",
            "Epoch 79/250\n",
            "27/27 [==============================] - 1s 41ms/step - loss: 1.8752 - accuracy: 0.2390 - val_loss: 1.5425 - val_accuracy: 0.3618\n",
            "Epoch 80/250\n",
            "27/27 [==============================] - 1s 40ms/step - loss: 1.8729 - accuracy: 0.2363 - val_loss: 1.5412 - val_accuracy: 0.3652\n",
            "Epoch 81/250\n",
            "27/27 [==============================] - 1s 41ms/step - loss: 1.8649 - accuracy: 0.2433 - val_loss: 1.5399 - val_accuracy: 0.3681\n",
            "Epoch 82/250\n",
            "27/27 [==============================] - 1s 41ms/step - loss: 1.8615 - accuracy: 0.2382 - val_loss: 1.5387 - val_accuracy: 0.3705\n",
            "Epoch 83/250\n",
            "27/27 [==============================] - 1s 40ms/step - loss: 1.8600 - accuracy: 0.2405 - val_loss: 1.5374 - val_accuracy: 0.3739\n",
            "Epoch 84/250\n",
            "27/27 [==============================] - 1s 41ms/step - loss: 1.8685 - accuracy: 0.2395 - val_loss: 1.5360 - val_accuracy: 0.3761\n",
            "Epoch 85/250\n",
            "27/27 [==============================] - 1s 40ms/step - loss: 1.8496 - accuracy: 0.2453 - val_loss: 1.5346 - val_accuracy: 0.3790\n",
            "Epoch 86/250\n",
            "27/27 [==============================] - 1s 41ms/step - loss: 1.8517 - accuracy: 0.2424 - val_loss: 1.5334 - val_accuracy: 0.3815\n",
            "Epoch 87/250\n",
            "27/27 [==============================] - 1s 41ms/step - loss: 1.8501 - accuracy: 0.2403 - val_loss: 1.5319 - val_accuracy: 0.3841\n",
            "Epoch 88/250\n",
            "27/27 [==============================] - 1s 41ms/step - loss: 1.8522 - accuracy: 0.2450 - val_loss: 1.5305 - val_accuracy: 0.3871\n",
            "Epoch 89/250\n",
            "27/27 [==============================] - 1s 40ms/step - loss: 1.8255 - accuracy: 0.2442 - val_loss: 1.5293 - val_accuracy: 0.3907\n",
            "Epoch 90/250\n",
            "27/27 [==============================] - 1s 40ms/step - loss: 1.8268 - accuracy: 0.2486 - val_loss: 1.5280 - val_accuracy: 0.3950\n",
            "Epoch 91/250\n",
            "27/27 [==============================] - 1s 40ms/step - loss: 1.8306 - accuracy: 0.2436 - val_loss: 1.5266 - val_accuracy: 0.3976\n",
            "Epoch 92/250\n",
            "27/27 [==============================] - 1s 41ms/step - loss: 1.8270 - accuracy: 0.2471 - val_loss: 1.5253 - val_accuracy: 0.4014\n",
            "Epoch 93/250\n",
            "27/27 [==============================] - 1s 40ms/step - loss: 1.8311 - accuracy: 0.2475 - val_loss: 1.5242 - val_accuracy: 0.4049\n",
            "Epoch 94/250\n",
            "27/27 [==============================] - 1s 41ms/step - loss: 1.8130 - accuracy: 0.2458 - val_loss: 1.5230 - val_accuracy: 0.4085\n",
            "Epoch 95/250\n",
            "27/27 [==============================] - 1s 40ms/step - loss: 1.8150 - accuracy: 0.2495 - val_loss: 1.5219 - val_accuracy: 0.4112\n",
            "Epoch 96/250\n",
            "27/27 [==============================] - 1s 41ms/step - loss: 1.8123 - accuracy: 0.2519 - val_loss: 1.5205 - val_accuracy: 0.4144\n",
            "Epoch 97/250\n",
            "27/27 [==============================] - 1s 41ms/step - loss: 1.8209 - accuracy: 0.2400 - val_loss: 1.5194 - val_accuracy: 0.4173\n",
            "Epoch 98/250\n",
            "27/27 [==============================] - 1s 40ms/step - loss: 1.7943 - accuracy: 0.2493 - val_loss: 1.5181 - val_accuracy: 0.4202\n",
            "Epoch 99/250\n",
            "27/27 [==============================] - 1s 42ms/step - loss: 1.8091 - accuracy: 0.2516 - val_loss: 1.5170 - val_accuracy: 0.4233\n",
            "Epoch 100/250\n",
            "27/27 [==============================] - 1s 41ms/step - loss: 1.7853 - accuracy: 0.2566 - val_loss: 1.5157 - val_accuracy: 0.4257\n",
            "Epoch 101/250\n",
            "27/27 [==============================] - 1s 40ms/step - loss: 1.8068 - accuracy: 0.2462 - val_loss: 1.5143 - val_accuracy: 0.4293\n",
            "Epoch 102/250\n",
            "27/27 [==============================] - 1s 41ms/step - loss: 1.7852 - accuracy: 0.2551 - val_loss: 1.5131 - val_accuracy: 0.4322\n",
            "Epoch 103/250\n",
            "27/27 [==============================] - 1s 39ms/step - loss: 1.7888 - accuracy: 0.2502 - val_loss: 1.5119 - val_accuracy: 0.4345\n",
            "Epoch 104/250\n",
            "27/27 [==============================] - 1s 41ms/step - loss: 1.7868 - accuracy: 0.2521 - val_loss: 1.5107 - val_accuracy: 0.4375\n",
            "Epoch 105/250\n",
            "27/27 [==============================] - 1s 41ms/step - loss: 1.7852 - accuracy: 0.2549 - val_loss: 1.5096 - val_accuracy: 0.4407\n",
            "Epoch 106/250\n",
            "27/27 [==============================] - 1s 41ms/step - loss: 1.7737 - accuracy: 0.2545 - val_loss: 1.5084 - val_accuracy: 0.4441\n",
            "Epoch 107/250\n",
            "27/27 [==============================] - 1s 41ms/step - loss: 1.7757 - accuracy: 0.2592 - val_loss: 1.5072 - val_accuracy: 0.4477\n",
            "Epoch 108/250\n",
            "27/27 [==============================] - 1s 40ms/step - loss: 1.7729 - accuracy: 0.2574 - val_loss: 1.5061 - val_accuracy: 0.4502\n",
            "Epoch 109/250\n",
            "27/27 [==============================] - 1s 41ms/step - loss: 1.7689 - accuracy: 0.2553 - val_loss: 1.5048 - val_accuracy: 0.4523\n",
            "Epoch 110/250\n",
            "27/27 [==============================] - 1s 41ms/step - loss: 1.7727 - accuracy: 0.2525 - val_loss: 1.5035 - val_accuracy: 0.4557\n",
            "Epoch 111/250\n",
            "27/27 [==============================] - 1s 40ms/step - loss: 1.7686 - accuracy: 0.2600 - val_loss: 1.5024 - val_accuracy: 0.4582\n",
            "Epoch 112/250\n",
            "27/27 [==============================] - 1s 41ms/step - loss: 1.7534 - accuracy: 0.2597 - val_loss: 1.5012 - val_accuracy: 0.4612\n",
            "Epoch 113/250\n",
            "27/27 [==============================] - 1s 41ms/step - loss: 1.7543 - accuracy: 0.2625 - val_loss: 1.4999 - val_accuracy: 0.4644\n",
            "Epoch 114/250\n",
            "27/27 [==============================] - 1s 40ms/step - loss: 1.7535 - accuracy: 0.2600 - val_loss: 1.4988 - val_accuracy: 0.4675\n",
            "Epoch 115/250\n",
            "27/27 [==============================] - 1s 41ms/step - loss: 1.7600 - accuracy: 0.2537 - val_loss: 1.4975 - val_accuracy: 0.4688\n",
            "Epoch 116/250\n",
            "27/27 [==============================] - 1s 40ms/step - loss: 1.7403 - accuracy: 0.2620 - val_loss: 1.4965 - val_accuracy: 0.4729\n",
            "Epoch 117/250\n",
            "27/27 [==============================] - 1s 41ms/step - loss: 1.7574 - accuracy: 0.2574 - val_loss: 1.4955 - val_accuracy: 0.4756\n",
            "Epoch 118/250\n",
            "27/27 [==============================] - 1s 41ms/step - loss: 1.7585 - accuracy: 0.2564 - val_loss: 1.4942 - val_accuracy: 0.4789\n",
            "Epoch 119/250\n",
            "27/27 [==============================] - 1s 41ms/step - loss: 1.7287 - accuracy: 0.2674 - val_loss: 1.4929 - val_accuracy: 0.4815\n",
            "Epoch 120/250\n",
            "27/27 [==============================] - 1s 41ms/step - loss: 1.7463 - accuracy: 0.2591 - val_loss: 1.4917 - val_accuracy: 0.4833\n",
            "Epoch 121/250\n",
            "27/27 [==============================] - 1s 40ms/step - loss: 1.7257 - accuracy: 0.2651 - val_loss: 1.4907 - val_accuracy: 0.4866\n",
            "Epoch 122/250\n",
            "27/27 [==============================] - 1s 40ms/step - loss: 1.7327 - accuracy: 0.2644 - val_loss: 1.4895 - val_accuracy: 0.4875\n",
            "Epoch 123/250\n",
            "27/27 [==============================] - 1s 41ms/step - loss: 1.7338 - accuracy: 0.2606 - val_loss: 1.4884 - val_accuracy: 0.4904\n",
            "Epoch 124/250\n",
            "27/27 [==============================] - 1s 40ms/step - loss: 1.7287 - accuracy: 0.2627 - val_loss: 1.4873 - val_accuracy: 0.4925\n",
            "Epoch 125/250\n",
            "27/27 [==============================] - 1s 41ms/step - loss: 1.7313 - accuracy: 0.2625 - val_loss: 1.4863 - val_accuracy: 0.4956\n",
            "Epoch 126/250\n",
            "27/27 [==============================] - 1s 39ms/step - loss: 1.7202 - accuracy: 0.2651 - val_loss: 1.4851 - val_accuracy: 0.4973\n",
            "Epoch 127/250\n",
            "27/27 [==============================] - 1s 41ms/step - loss: 1.7255 - accuracy: 0.2630 - val_loss: 1.4842 - val_accuracy: 0.5017\n",
            "Epoch 128/250\n",
            "27/27 [==============================] - 1s 40ms/step - loss: 1.7189 - accuracy: 0.2684 - val_loss: 1.4829 - val_accuracy: 0.5032\n",
            "Epoch 129/250\n",
            "27/27 [==============================] - 1s 40ms/step - loss: 1.7172 - accuracy: 0.2674 - val_loss: 1.4819 - val_accuracy: 0.5060\n",
            "Epoch 130/250\n",
            "27/27 [==============================] - 1s 39ms/step - loss: 1.7090 - accuracy: 0.2688 - val_loss: 1.4809 - val_accuracy: 0.5085\n",
            "Epoch 131/250\n",
            "27/27 [==============================] - 1s 41ms/step - loss: 1.7128 - accuracy: 0.2691 - val_loss: 1.4798 - val_accuracy: 0.5120\n",
            "Epoch 132/250\n",
            "27/27 [==============================] - 1s 41ms/step - loss: 1.7040 - accuracy: 0.2711 - val_loss: 1.4787 - val_accuracy: 0.5138\n",
            "Epoch 133/250\n",
            "27/27 [==============================] - 1s 39ms/step - loss: 1.7021 - accuracy: 0.2660 - val_loss: 1.4778 - val_accuracy: 0.5157\n",
            "Epoch 134/250\n",
            "27/27 [==============================] - 1s 41ms/step - loss: 1.7086 - accuracy: 0.2681 - val_loss: 1.4767 - val_accuracy: 0.5185\n",
            "Epoch 135/250\n",
            "27/27 [==============================] - 1s 39ms/step - loss: 1.6954 - accuracy: 0.2743 - val_loss: 1.4757 - val_accuracy: 0.5198\n",
            "Epoch 136/250\n",
            "27/27 [==============================] - 1s 40ms/step - loss: 1.7037 - accuracy: 0.2735 - val_loss: 1.4749 - val_accuracy: 0.5213\n",
            "Epoch 137/250\n",
            "27/27 [==============================] - 1s 41ms/step - loss: 1.6906 - accuracy: 0.2787 - val_loss: 1.4738 - val_accuracy: 0.5231\n",
            "Epoch 138/250\n",
            "27/27 [==============================] - 1s 41ms/step - loss: 1.6783 - accuracy: 0.2819 - val_loss: 1.4730 - val_accuracy: 0.5259\n",
            "Epoch 139/250\n",
            "27/27 [==============================] - 1s 40ms/step - loss: 1.6934 - accuracy: 0.2735 - val_loss: 1.4721 - val_accuracy: 0.5283\n",
            "Epoch 140/250\n",
            "27/27 [==============================] - 1s 41ms/step - loss: 1.6941 - accuracy: 0.2738 - val_loss: 1.4713 - val_accuracy: 0.5304\n",
            "Epoch 141/250\n",
            "27/27 [==============================] - 1s 40ms/step - loss: 1.6793 - accuracy: 0.2843 - val_loss: 1.4704 - val_accuracy: 0.5336\n",
            "Epoch 142/250\n",
            "27/27 [==============================] - 1s 40ms/step - loss: 1.6894 - accuracy: 0.2828 - val_loss: 1.4695 - val_accuracy: 0.5341\n",
            "Epoch 143/250\n",
            "27/27 [==============================] - 1s 40ms/step - loss: 1.6851 - accuracy: 0.2797 - val_loss: 1.4687 - val_accuracy: 0.5360\n",
            "Epoch 144/250\n",
            "27/27 [==============================] - 1s 39ms/step - loss: 1.6749 - accuracy: 0.2784 - val_loss: 1.4679 - val_accuracy: 0.5383\n",
            "Epoch 145/250\n",
            "27/27 [==============================] - 1s 41ms/step - loss: 1.6808 - accuracy: 0.2834 - val_loss: 1.4669 - val_accuracy: 0.5396\n",
            "Epoch 146/250\n",
            "27/27 [==============================] - 1s 41ms/step - loss: 1.6745 - accuracy: 0.2844 - val_loss: 1.4659 - val_accuracy: 0.5410\n",
            "Epoch 147/250\n",
            "27/27 [==============================] - 1s 40ms/step - loss: 1.6846 - accuracy: 0.2725 - val_loss: 1.4651 - val_accuracy: 0.5432\n",
            "Epoch 148/250\n",
            "27/27 [==============================] - 1s 40ms/step - loss: 1.6715 - accuracy: 0.2884 - val_loss: 1.4644 - val_accuracy: 0.5452\n",
            "Epoch 149/250\n",
            "27/27 [==============================] - 1s 41ms/step - loss: 1.6699 - accuracy: 0.2813 - val_loss: 1.4635 - val_accuracy: 0.5453\n",
            "Epoch 150/250\n",
            "27/27 [==============================] - 1s 40ms/step - loss: 1.6604 - accuracy: 0.2820 - val_loss: 1.4628 - val_accuracy: 0.5475\n",
            "Epoch 151/250\n",
            "27/27 [==============================] - 1s 41ms/step - loss: 1.6725 - accuracy: 0.2767 - val_loss: 1.4620 - val_accuracy: 0.5491\n",
            "Epoch 152/250\n",
            "27/27 [==============================] - 1s 40ms/step - loss: 1.6626 - accuracy: 0.2866 - val_loss: 1.4612 - val_accuracy: 0.5505\n",
            "Epoch 153/250\n",
            "27/27 [==============================] - 1s 40ms/step - loss: 1.6722 - accuracy: 0.2810 - val_loss: 1.4606 - val_accuracy: 0.5535\n",
            "Epoch 154/250\n",
            "27/27 [==============================] - 1s 41ms/step - loss: 1.6489 - accuracy: 0.2911 - val_loss: 1.4598 - val_accuracy: 0.5542\n",
            "Epoch 155/250\n",
            "27/27 [==============================] - 1s 41ms/step - loss: 1.6516 - accuracy: 0.2916 - val_loss: 1.4592 - val_accuracy: 0.5559\n",
            "Epoch 156/250\n",
            "27/27 [==============================] - 1s 42ms/step - loss: 1.6548 - accuracy: 0.2851 - val_loss: 1.4583 - val_accuracy: 0.5574\n",
            "Epoch 157/250\n",
            "27/27 [==============================] - 1s 40ms/step - loss: 1.6642 - accuracy: 0.2812 - val_loss: 1.4579 - val_accuracy: 0.5593\n",
            "Epoch 158/250\n",
            "27/27 [==============================] - 1s 41ms/step - loss: 1.6505 - accuracy: 0.2862 - val_loss: 1.4569 - val_accuracy: 0.5606\n",
            "Epoch 159/250\n",
            "27/27 [==============================] - 1s 41ms/step - loss: 1.6475 - accuracy: 0.2853 - val_loss: 1.4561 - val_accuracy: 0.5623\n",
            "Epoch 160/250\n",
            "27/27 [==============================] - 1s 39ms/step - loss: 1.6566 - accuracy: 0.2837 - val_loss: 1.4555 - val_accuracy: 0.5638\n",
            "Epoch 161/250\n",
            "27/27 [==============================] - 1s 40ms/step - loss: 1.6576 - accuracy: 0.2828 - val_loss: 1.4549 - val_accuracy: 0.5653\n",
            "Epoch 162/250\n",
            "27/27 [==============================] - 1s 41ms/step - loss: 1.6479 - accuracy: 0.2882 - val_loss: 1.4542 - val_accuracy: 0.5661\n",
            "Epoch 163/250\n",
            "27/27 [==============================] - 1s 41ms/step - loss: 1.6406 - accuracy: 0.2947 - val_loss: 1.4536 - val_accuracy: 0.5680\n",
            "Epoch 164/250\n",
            "27/27 [==============================] - 1s 42ms/step - loss: 1.6450 - accuracy: 0.2929 - val_loss: 1.4528 - val_accuracy: 0.5692\n",
            "Epoch 165/250\n",
            "27/27 [==============================] - 1s 41ms/step - loss: 1.6392 - accuracy: 0.2939 - val_loss: 1.4522 - val_accuracy: 0.5699\n",
            "Epoch 166/250\n",
            "27/27 [==============================] - 1s 40ms/step - loss: 1.6444 - accuracy: 0.2884 - val_loss: 1.4514 - val_accuracy: 0.5718\n",
            "Epoch 167/250\n",
            "27/27 [==============================] - 1s 39ms/step - loss: 1.6425 - accuracy: 0.2942 - val_loss: 1.4509 - val_accuracy: 0.5730\n",
            "Epoch 168/250\n",
            "27/27 [==============================] - 1s 40ms/step - loss: 1.6336 - accuracy: 0.2941 - val_loss: 1.4500 - val_accuracy: 0.5751\n",
            "Epoch 169/250\n",
            "27/27 [==============================] - 1s 40ms/step - loss: 1.6394 - accuracy: 0.2907 - val_loss: 1.4496 - val_accuracy: 0.5768\n",
            "Epoch 170/250\n",
            "27/27 [==============================] - 1s 40ms/step - loss: 1.6476 - accuracy: 0.2845 - val_loss: 1.4488 - val_accuracy: 0.5780\n",
            "Epoch 171/250\n",
            "27/27 [==============================] - 1s 41ms/step - loss: 1.6335 - accuracy: 0.2915 - val_loss: 1.4483 - val_accuracy: 0.5791\n",
            "Epoch 172/250\n",
            "27/27 [==============================] - 1s 39ms/step - loss: 1.6317 - accuracy: 0.2966 - val_loss: 1.4477 - val_accuracy: 0.5801\n",
            "Epoch 173/250\n",
            "27/27 [==============================] - 1s 41ms/step - loss: 1.6282 - accuracy: 0.2952 - val_loss: 1.4470 - val_accuracy: 0.5809\n",
            "Epoch 174/250\n",
            "27/27 [==============================] - 1s 39ms/step - loss: 1.6334 - accuracy: 0.2947 - val_loss: 1.4463 - val_accuracy: 0.5818\n",
            "Epoch 175/250\n",
            "27/27 [==============================] - 1s 39ms/step - loss: 1.6298 - accuracy: 0.2921 - val_loss: 1.4460 - val_accuracy: 0.5826\n",
            "Epoch 176/250\n",
            "27/27 [==============================] - 1s 39ms/step - loss: 1.6296 - accuracy: 0.2918 - val_loss: 1.4455 - val_accuracy: 0.5834\n",
            "Epoch 177/250\n",
            "27/27 [==============================] - 1s 40ms/step - loss: 1.6325 - accuracy: 0.3000 - val_loss: 1.4448 - val_accuracy: 0.5841\n",
            "Epoch 178/250\n",
            "27/27 [==============================] - 1s 41ms/step - loss: 1.6200 - accuracy: 0.2976 - val_loss: 1.4442 - val_accuracy: 0.5853\n",
            "Epoch 179/250\n",
            "27/27 [==============================] - 1s 41ms/step - loss: 1.6345 - accuracy: 0.2917 - val_loss: 1.4434 - val_accuracy: 0.5863\n",
            "Epoch 180/250\n",
            "27/27 [==============================] - 1s 39ms/step - loss: 1.6229 - accuracy: 0.2952 - val_loss: 1.4428 - val_accuracy: 0.5875\n",
            "Epoch 181/250\n",
            "27/27 [==============================] - 1s 40ms/step - loss: 1.6245 - accuracy: 0.2946 - val_loss: 1.4424 - val_accuracy: 0.5890\n",
            "Epoch 182/250\n",
            "27/27 [==============================] - 1s 40ms/step - loss: 1.6222 - accuracy: 0.3006 - val_loss: 1.4419 - val_accuracy: 0.5898\n",
            "Epoch 183/250\n",
            "27/27 [==============================] - 1s 41ms/step - loss: 1.6280 - accuracy: 0.2918 - val_loss: 1.4414 - val_accuracy: 0.5902\n",
            "Epoch 184/250\n",
            "27/27 [==============================] - 1s 41ms/step - loss: 1.6362 - accuracy: 0.2916 - val_loss: 1.4409 - val_accuracy: 0.5911\n",
            "Epoch 185/250\n",
            "27/27 [==============================] - 1s 41ms/step - loss: 1.6098 - accuracy: 0.3048 - val_loss: 1.4403 - val_accuracy: 0.5926\n",
            "Epoch 186/250\n",
            "27/27 [==============================] - 1s 40ms/step - loss: 1.6131 - accuracy: 0.3044 - val_loss: 1.4398 - val_accuracy: 0.5935\n",
            "Epoch 187/250\n",
            "27/27 [==============================] - 1s 41ms/step - loss: 1.6191 - accuracy: 0.3021 - val_loss: 1.4395 - val_accuracy: 0.5948\n",
            "Epoch 188/250\n",
            "27/27 [==============================] - 1s 40ms/step - loss: 1.6068 - accuracy: 0.3008 - val_loss: 1.4391 - val_accuracy: 0.5950\n",
            "Epoch 189/250\n",
            "27/27 [==============================] - 1s 41ms/step - loss: 1.6137 - accuracy: 0.3019 - val_loss: 1.4386 - val_accuracy: 0.5962\n",
            "Epoch 190/250\n",
            "27/27 [==============================] - 1s 39ms/step - loss: 1.6166 - accuracy: 0.3001 - val_loss: 1.4383 - val_accuracy: 0.5977\n",
            "Epoch 191/250\n",
            "27/27 [==============================] - 1s 41ms/step - loss: 1.6132 - accuracy: 0.3050 - val_loss: 1.4383 - val_accuracy: 0.5988\n",
            "Epoch 192/250\n",
            "27/27 [==============================] - 1s 40ms/step - loss: 1.6093 - accuracy: 0.3007 - val_loss: 1.4376 - val_accuracy: 0.5988\n",
            "Epoch 193/250\n",
            "27/27 [==============================] - 1s 41ms/step - loss: 1.6028 - accuracy: 0.3093 - val_loss: 1.4373 - val_accuracy: 0.5997\n",
            "Epoch 194/250\n",
            "27/27 [==============================] - 1s 41ms/step - loss: 1.6070 - accuracy: 0.3047 - val_loss: 1.4370 - val_accuracy: 0.6003\n",
            "Epoch 195/250\n",
            "27/27 [==============================] - 1s 41ms/step - loss: 1.6158 - accuracy: 0.2978 - val_loss: 1.4363 - val_accuracy: 0.6008\n",
            "Epoch 196/250\n",
            "27/27 [==============================] - 1s 40ms/step - loss: 1.6081 - accuracy: 0.2987 - val_loss: 1.4357 - val_accuracy: 0.6015\n",
            "Epoch 197/250\n",
            "27/27 [==============================] - 1s 40ms/step - loss: 1.6060 - accuracy: 0.3063 - val_loss: 1.4352 - val_accuracy: 0.6019\n",
            "Epoch 198/250\n",
            "27/27 [==============================] - 1s 41ms/step - loss: 1.6011 - accuracy: 0.3052 - val_loss: 1.4348 - val_accuracy: 0.6032\n",
            "Epoch 199/250\n",
            "27/27 [==============================] - 1s 41ms/step - loss: 1.6011 - accuracy: 0.3052 - val_loss: 1.4346 - val_accuracy: 0.6035\n",
            "Epoch 200/250\n",
            "27/27 [==============================] - 1s 41ms/step - loss: 1.6076 - accuracy: 0.3013 - val_loss: 1.4342 - val_accuracy: 0.6044\n",
            "Epoch 201/250\n",
            "27/27 [==============================] - 1s 40ms/step - loss: 1.6088 - accuracy: 0.3077 - val_loss: 1.4338 - val_accuracy: 0.6049\n",
            "Epoch 202/250\n",
            "27/27 [==============================] - 1s 41ms/step - loss: 1.6031 - accuracy: 0.3021 - val_loss: 1.4334 - val_accuracy: 0.6066\n",
            "Epoch 203/250\n",
            "27/27 [==============================] - 1s 41ms/step - loss: 1.6088 - accuracy: 0.2971 - val_loss: 1.4327 - val_accuracy: 0.6073\n",
            "Epoch 204/250\n",
            "27/27 [==============================] - 1s 41ms/step - loss: 1.5931 - accuracy: 0.3086 - val_loss: 1.4324 - val_accuracy: 0.6072\n",
            "Epoch 205/250\n",
            "27/27 [==============================] - 1s 40ms/step - loss: 1.6028 - accuracy: 0.3039 - val_loss: 1.4321 - val_accuracy: 0.6085\n",
            "Epoch 206/250\n",
            "27/27 [==============================] - 1s 41ms/step - loss: 1.5989 - accuracy: 0.3076 - val_loss: 1.4318 - val_accuracy: 0.6086\n",
            "Epoch 207/250\n",
            "27/27 [==============================] - 1s 41ms/step - loss: 1.5929 - accuracy: 0.3084 - val_loss: 1.4316 - val_accuracy: 0.6093\n",
            "Epoch 208/250\n",
            "27/27 [==============================] - 1s 40ms/step - loss: 1.5891 - accuracy: 0.3088 - val_loss: 1.4312 - val_accuracy: 0.6096\n",
            "Epoch 209/250\n",
            "27/27 [==============================] - 1s 41ms/step - loss: 1.5986 - accuracy: 0.3079 - val_loss: 1.4309 - val_accuracy: 0.6116\n",
            "Epoch 210/250\n",
            "27/27 [==============================] - 1s 41ms/step - loss: 1.5867 - accuracy: 0.3146 - val_loss: 1.4305 - val_accuracy: 0.6110\n",
            "Epoch 211/250\n",
            "27/27 [==============================] - 1s 41ms/step - loss: 1.5999 - accuracy: 0.3072 - val_loss: 1.4302 - val_accuracy: 0.6116\n",
            "Epoch 212/250\n",
            "27/27 [==============================] - 1s 41ms/step - loss: 1.5933 - accuracy: 0.3113 - val_loss: 1.4299 - val_accuracy: 0.6120\n",
            "Epoch 213/250\n",
            "27/27 [==============================] - 1s 42ms/step - loss: 1.5998 - accuracy: 0.3120 - val_loss: 1.4294 - val_accuracy: 0.6128\n",
            "Epoch 214/250\n",
            "27/27 [==============================] - 1s 40ms/step - loss: 1.5961 - accuracy: 0.3092 - val_loss: 1.4289 - val_accuracy: 0.6125\n",
            "Epoch 215/250\n",
            "27/27 [==============================] - 1s 41ms/step - loss: 1.5989 - accuracy: 0.3054 - val_loss: 1.4287 - val_accuracy: 0.6134\n",
            "Epoch 216/250\n",
            "27/27 [==============================] - 1s 42ms/step - loss: 1.5890 - accuracy: 0.3107 - val_loss: 1.4286 - val_accuracy: 0.6144\n",
            "Epoch 217/250\n",
            "27/27 [==============================] - 1s 41ms/step - loss: 1.5959 - accuracy: 0.3107 - val_loss: 1.4282 - val_accuracy: 0.6144\n",
            "Epoch 218/250\n",
            "27/27 [==============================] - 1s 40ms/step - loss: 1.5910 - accuracy: 0.3152 - val_loss: 1.4280 - val_accuracy: 0.6148\n",
            "Epoch 219/250\n",
            "27/27 [==============================] - 1s 41ms/step - loss: 1.5917 - accuracy: 0.3130 - val_loss: 1.4279 - val_accuracy: 0.6151\n",
            "Epoch 220/250\n",
            "27/27 [==============================] - 1s 40ms/step - loss: 1.5967 - accuracy: 0.3055 - val_loss: 1.4277 - val_accuracy: 0.6159\n",
            "Epoch 221/250\n",
            "27/27 [==============================] - 1s 41ms/step - loss: 1.6030 - accuracy: 0.3055 - val_loss: 1.4275 - val_accuracy: 0.6164\n",
            "Epoch 222/250\n",
            "27/27 [==============================] - 1s 40ms/step - loss: 1.5918 - accuracy: 0.3095 - val_loss: 1.4272 - val_accuracy: 0.6166\n",
            "Epoch 223/250\n",
            "27/27 [==============================] - 1s 41ms/step - loss: 1.5900 - accuracy: 0.3074 - val_loss: 1.4272 - val_accuracy: 0.6166\n",
            "Epoch 224/250\n",
            "27/27 [==============================] - 1s 40ms/step - loss: 1.5899 - accuracy: 0.3044 - val_loss: 1.4270 - val_accuracy: 0.6169\n",
            "Epoch 225/250\n",
            "27/27 [==============================] - 1s 40ms/step - loss: 1.5888 - accuracy: 0.3193 - val_loss: 1.4267 - val_accuracy: 0.6166\n",
            "Epoch 226/250\n",
            "27/27 [==============================] - 1s 42ms/step - loss: 1.5865 - accuracy: 0.3085 - val_loss: 1.4266 - val_accuracy: 0.6172\n",
            "Epoch 227/250\n",
            "27/27 [==============================] - 1s 41ms/step - loss: 1.5937 - accuracy: 0.3044 - val_loss: 1.4264 - val_accuracy: 0.6181\n",
            "Epoch 228/250\n",
            "27/27 [==============================] - 1s 40ms/step - loss: 1.5887 - accuracy: 0.3159 - val_loss: 1.4262 - val_accuracy: 0.6183\n",
            "Epoch 229/250\n",
            "27/27 [==============================] - 1s 42ms/step - loss: 1.5895 - accuracy: 0.3047 - val_loss: 1.4263 - val_accuracy: 0.6182\n",
            "Epoch 230/250\n",
            "27/27 [==============================] - 1s 41ms/step - loss: 1.5993 - accuracy: 0.3081 - val_loss: 1.4261 - val_accuracy: 0.6185\n",
            "Epoch 231/250\n",
            "27/27 [==============================] - 1s 41ms/step - loss: 1.5860 - accuracy: 0.3152 - val_loss: 1.4259 - val_accuracy: 0.6188\n",
            "Epoch 232/250\n",
            "27/27 [==============================] - 1s 40ms/step - loss: 1.5913 - accuracy: 0.3094 - val_loss: 1.4256 - val_accuracy: 0.6190\n",
            "Epoch 233/250\n",
            "27/27 [==============================] - 1s 42ms/step - loss: 1.5829 - accuracy: 0.3149 - val_loss: 1.4253 - val_accuracy: 0.6190\n",
            "Epoch 234/250\n",
            "27/27 [==============================] - 1s 41ms/step - loss: 1.5957 - accuracy: 0.3087 - val_loss: 1.4250 - val_accuracy: 0.6185\n",
            "Epoch 235/250\n",
            "27/27 [==============================] - 1s 41ms/step - loss: 1.5932 - accuracy: 0.3074 - val_loss: 1.4249 - val_accuracy: 0.6193\n",
            "Epoch 236/250\n",
            "27/27 [==============================] - 1s 40ms/step - loss: 1.5830 - accuracy: 0.3119 - val_loss: 1.4248 - val_accuracy: 0.6203\n",
            "Epoch 237/250\n",
            "27/27 [==============================] - 1s 41ms/step - loss: 1.5878 - accuracy: 0.3121 - val_loss: 1.4245 - val_accuracy: 0.6214\n",
            "Epoch 238/250\n",
            "27/27 [==============================] - 1s 40ms/step - loss: 1.5943 - accuracy: 0.3107 - val_loss: 1.4244 - val_accuracy: 0.6217\n",
            "Epoch 239/250\n",
            "27/27 [==============================] - 1s 42ms/step - loss: 1.5978 - accuracy: 0.3064 - val_loss: 1.4244 - val_accuracy: 0.6214\n",
            "Epoch 240/250\n",
            "27/27 [==============================] - 1s 40ms/step - loss: 1.5859 - accuracy: 0.3141 - val_loss: 1.4245 - val_accuracy: 0.6218\n",
            "Epoch 241/250\n",
            "27/27 [==============================] - 1s 41ms/step - loss: 1.5820 - accuracy: 0.3129 - val_loss: 1.4246 - val_accuracy: 0.6217\n",
            "Epoch 242/250\n",
            "27/27 [==============================] - 1s 40ms/step - loss: 1.5782 - accuracy: 0.3094 - val_loss: 1.4245 - val_accuracy: 0.6217\n",
            "Epoch 243/250\n",
            "27/27 [==============================] - 1s 40ms/step - loss: 1.5864 - accuracy: 0.3190 - val_loss: 1.4244 - val_accuracy: 0.6218\n",
            "Epoch 244/250\n",
            "27/27 [==============================] - 1s 41ms/step - loss: 1.5788 - accuracy: 0.3180 - val_loss: 1.4240 - val_accuracy: 0.6219\n",
            "Epoch 245/250\n",
            "27/27 [==============================] - 1s 41ms/step - loss: 1.5883 - accuracy: 0.3102 - val_loss: 1.4239 - val_accuracy: 0.6219\n",
            "Epoch 246/250\n",
            "27/27 [==============================] - 1s 42ms/step - loss: 1.5859 - accuracy: 0.3088 - val_loss: 1.4241 - val_accuracy: 0.6216\n",
            "Epoch 247/250\n",
            "27/27 [==============================] - 1s 41ms/step - loss: 1.5853 - accuracy: 0.3137 - val_loss: 1.4244 - val_accuracy: 0.6219\n",
            "Epoch 248/250\n",
            "27/27 [==============================] - 1s 41ms/step - loss: 1.5813 - accuracy: 0.3173 - val_loss: 1.4242 - val_accuracy: 0.6223\n",
            "Epoch 249/250\n",
            "27/27 [==============================] - 1s 40ms/step - loss: 1.5814 - accuracy: 0.3150 - val_loss: 1.4241 - val_accuracy: 0.6217\n",
            "Epoch 250/250\n",
            "27/27 [==============================] - 1s 42ms/step - loss: 1.5832 - accuracy: 0.3170 - val_loss: 1.4241 - val_accuracy: 0.6225\n"
          ]
        }
      ],
      "source": [
        "hist= learner.fit_onecycle(2e-5, 250)"
      ]
    },
    {
      "cell_type": "code",
      "execution_count": null,
      "metadata": {
        "id": "LQlr9nExo5_M",
        "colab": {
          "base_uri": "https://localhost:8080/"
        },
        "outputId": "5cffc98d-4690-4297-dcba-dc5f51302c06"
      },
      "outputs": [
        {
          "output_type": "stream",
          "name": "stdout",
          "text": [
            "               precision    recall  f1-score   support\n",
            "\n",
            "     Positive       0.94      0.05      0.10      1445\n",
            "Very Positive       0.87      0.35      0.50      2280\n",
            "      Neutral       0.61      0.71      0.66      2951\n",
            "     Negative       0.52      0.84      0.64      3198\n",
            "Very Negative       0.70      0.75      0.72      3928\n",
            "\n",
            "     accuracy                           0.62     13802\n",
            "    macro avg       0.73      0.54      0.52     13802\n",
            " weighted avg       0.69      0.62      0.59     13802\n",
            "\n"
          ]
        },
        {
          "output_type": "execute_result",
          "data": {
            "text/plain": [
              "array([[  78,   43,  370,  545,  409],\n",
              "       [   1,  798,  328,  828,  325],\n",
              "       [   1,   26, 2104,  531,  289],\n",
              "       [   0,   30,  256, 2671,  241],\n",
              "       [   3,   25,  388,  571, 2941]])"
            ]
          },
          "metadata": {},
          "execution_count": 11
        }
      ],
      "source": [
        "learner.validate(val_data=(x_test, y_test), class_names=class_names)"
      ]
    },
    {
      "cell_type": "code",
      "execution_count": null,
      "metadata": {
        "colab": {
          "base_uri": "https://localhost:8080/"
        },
        "id": "wQnA5UQwo_xE",
        "outputId": "3f626faf-5da2-4d24-9b05-107e149765c2"
      },
      "outputs": [
        {
          "output_type": "execute_result",
          "data": {
            "text/plain": [
              "['Positive', 'Very Positive', 'Neutral', 'Negative', 'Very Negative']"
            ]
          },
          "metadata": {},
          "execution_count": 12
        }
      ],
      "source": [
        "predictor = ktrain.get_predictor(learner.model, preproc)\n",
        "predictor.get_classes()"
      ]
    },
    {
      "cell_type": "code",
      "execution_count": null,
      "metadata": {
        "id": "UDNJyHTPpCn3"
      },
      "outputs": [],
      "source": [
        "from sklearn.metrics import confusion_matrix , f1_score\n",
        "import itertools\n",
        "import matplotlib.pyplot as plt"
      ]
    },
    {
      "cell_type": "code",
      "execution_count": null,
      "metadata": {
        "colab": {
          "base_uri": "https://localhost:8080/",
          "height": 294
        },
        "id": "DlBbBVAqpEiL",
        "outputId": "7fdc2817-bce0-4b53-972e-cdb3faef6dc3"
      },
      "outputs": [
        {
          "output_type": "display_data",
          "data": {
            "image/png": "[encoded data removed]",
            "text/plain": [
              "<Figure size 432x288 with 1 Axes>"
            ]
          },
          "metadata": {
            "needs_background": "light"
          }
        }
      ],
      "source": [
        "# Accuracy\n",
        "plt.plot(hist.history['accuracy'])\n",
        "plt.plot(hist.history['val_accuracy'])\n",
        "plt.title('Trainging and Validation Accuracy')\n",
        "plt.ylabel('Accuracy')\n",
        "plt.xlabel('Epoch')\n",
        "plt.legend(['Training Acc', 'Validation Acc'], loc='upper left')\n",
        "plt.show()"
      ]
    },
    {
      "cell_type": "code",
      "execution_count": null,
      "metadata": {
        "colab": {
          "base_uri": "https://localhost:8080/",
          "height": 294
        },
        "id": "KsmJNSRc3R-s",
        "outputId": "9c6ab698-9f43-4753-cf18-4c899af77611"
      },
      "outputs": [
        {
          "output_type": "display_data",
          "data": {
            "image/png": "[encoded data removed]",
            "text/plain": [
              "<Figure size 432x288 with 1 Axes>"
            ]
          },
          "metadata": {
            "needs_background": "light"
          }
        }
      ],
      "source": [
        "# Loss\n",
        "plt.plot(hist.history['loss'])\n",
        "plt.plot(hist.history['val_loss'])\n",
        "plt.title('Trainging and Validation Loss')\n",
        "plt.ylabel('Loss')\n",
        "plt.xlabel('Epoch')\n",
        "plt.legend(['Training Loss', 'Validation Loss'], loc='upper left')\n",
        "plt.show()"
      ]
    },
    {
      "cell_type": "code",
      "execution_count": null,
      "metadata": {
        "colab": {
          "base_uri": "https://localhost:8080/"
        },
        "id": "DKNg051npGqj",
        "outputId": "8284070b-e273-479f-f368-3c13cbdfb06b"
      },
      "outputs": [
        {
          "output_type": "stream",
          "name": "stdout",
          "text": [
            "(0.6912224696184626, 0.6225184755832488, 0.5878435517866303, None)\n"
          ]
        }
      ],
      "source": [
        "from sklearn.metrics import precision_recall_fscore_support\n",
        "\n",
        "predictions = model.predict(x_test)\n",
        "predictions = np.argmax(predictions, axis=1)\n",
        "predictions = [class_names[pred] for pred in predictions]\n",
        "\n",
        "print(precision_recall_fscore_support(data_test.Class, predictions, average = 'weighted', zero_division= 'warn'))"
      ]
    },
    {
      "cell_type": "code",
      "execution_count": null,
      "metadata": {
        "colab": {
          "base_uri": "https://localhost:8080/",
          "height": 405
        },
        "id": "i1udmK9GpIxT",
        "outputId": "ca195b57-9ad9-4ad4-e694-e5eab6d0fca0"
      },
      "outputs": [
        {
          "output_type": "stream",
          "name": "stdout",
          "text": [
            "\n",
            "F1 Score: 62.25\n"
          ]
        },
        {
          "output_type": "display_data",
          "data": {
            "image/png": "[encoded data removed]",
            "text/plain": [
              "<Figure size 720x360 with 2 Axes>"
            ]
          },
          "metadata": {
            "needs_background": "light"
          }
        }
      ],
      "source": [
        "def plot_confusion_matrix(y_true, y_pred, classes,\n",
        "                          normalize=False,\n",
        "                          title=confusion_matrix,\n",
        "                          cmap=plt.cm.Blues):\n",
        "    if not title:\n",
        "        if normalize:\n",
        "            title = 'Normalized confusion matrix'\n",
        "        else:\n",
        "            title = 'Confusion matrix, without normalization'\n",
        "\n",
        "    cm = confusion_matrix(y_true, y_pred)\n",
        "\n",
        "    if normalize:\n",
        "        cm = cm.astype('float') / cm.sum(axis=1)[:, np.newaxis]\n",
        "\n",
        "    fig, ax = plt.subplots()\n",
        "    \n",
        "    fig.set_size_inches(10, 5)\n",
        "    im = ax.imshow(cm, interpolation='nearest', cmap=cmap)\n",
        "    ax.figure.colorbar(im, ax=ax)\n",
        "    ax.grid(False)\n",
        "    \n",
        "    ax.set(xticks=np.arange(cm.shape[1]),\n",
        "           yticks=np.arange(cm.shape[0]),\n",
        "           xticklabels=classes, yticklabels=classes,\n",
        "           title=title,\n",
        "           ylabel='True label',\n",
        "           xlabel='Predicted label')\n",
        "\n",
        "    plt.setp(ax.get_xticklabels(), rotation=45, ha=\"right\",\n",
        "             rotation_mode=\"anchor\")\n",
        "\n",
        "    fmt = '.2f' if normalize else 'd'\n",
        "    thresh = cm.max() / 2.\n",
        "    for i in range(cm.shape[0]):\n",
        "        for j in range(cm.shape[1]):\n",
        "            ax.text(j, i, format(cm[i, j], fmt),\n",
        "                    ha=\"center\", va=\"center\",\n",
        "                    color=\"white\" if cm[i, j] > thresh else \"black\")\n",
        "    fig.tight_layout()\n",
        "    return ax\n",
        "\n",
        "print(\"\\nF1 Score: {:.2f}\".format(f1_score(data_test.Class, predictions, average='micro') * 100))\n",
        "\n",
        "plot_confusion_matrix(data_test.Class, predictions, classes=class_names, normalize=True, title='Normalized confusion matrix')\n",
        "#plot_confusion_matrix(y_true,y_pred,classes=class_names)\n",
        "plt.show()"
      ]
    },
    {
      "cell_type": "code",
      "execution_count": null,
      "metadata": {
        "colab": {
          "base_uri": "https://localhost:8080/"
        },
        "id": "FU5cVNKfpLlt",
        "outputId": "ba807ea5-fa2a-44a6-9dd0-2bc81a0a41eb"
      },
      "outputs": [
        {
          "output_type": "stream",
          "name": "stdout",
          "text": [
            "\n",
            "Accuracy: 0.62\n",
            "\n",
            "Micro Precision: 0.62\n",
            "Micro Recall: 0.62\n",
            "Micro F1-score: 0.62\n",
            "\n",
            "Macro Precision: 0.73\n",
            "Macro Recall: 0.54\n",
            "Macro F1-score: 0.52\n",
            "\n",
            "Weighted Precision: 0.69\n",
            "Weighted Recall: 0.62\n",
            "Weighted F1-score: 0.59\n",
            "\n",
            "Classification Report\n",
            "\n",
            "               precision    recall  f1-score   support\n",
            "\n",
            "     Positive       0.52      0.84      0.64      3198\n",
            "Very Positive       0.61      0.71      0.66      2951\n",
            "      Neutral       0.94      0.05      0.10      1445\n",
            "     Negative       0.70      0.75      0.72      3928\n",
            "Very Negative       0.87      0.35      0.50      2280\n",
            "\n",
            "     accuracy                           0.62     13802\n",
            "    macro avg       0.73      0.54      0.52     13802\n",
            " weighted avg       0.69      0.62      0.59     13802\n",
            "\n"
          ]
        }
      ],
      "source": [
        "from sklearn.metrics import accuracy_score, precision_score, recall_score, f1_score\n",
        "print('\\nAccuracy: {:.2f}\\n'.format(accuracy_score(data_test.Class, predictions)))\n",
        "\n",
        "print('Micro Precision: {:.2f}'.format(precision_score(data_test.Class, predictions, average='micro')))\n",
        "print('Micro Recall: {:.2f}'.format(recall_score(data_test.Class, predictions, average='micro')))\n",
        "print('Micro F1-score: {:.2f}\\n'.format(f1_score(data_test.Class, predictions, average='micro')))\n",
        "\n",
        "print('Macro Precision: {:.2f}'.format(precision_score(data_test.Class, predictions, average='macro')))\n",
        "print('Macro Recall: {:.2f}'.format(recall_score(data_test.Class, predictions, average='macro')))\n",
        "print('Macro F1-score: {:.2f}\\n'.format(f1_score(data_test.Class, predictions, average='macro')))\n",
        "\n",
        "print('Weighted Precision: {:.2f}'.format(precision_score(data_test.Class, predictions, average='weighted')))\n",
        "print('Weighted Recall: {:.2f}'.format(recall_score(data_test.Class, predictions, average='weighted')))\n",
        "print('Weighted F1-score: {:.2f}'.format(f1_score(data_test.Class, predictions, average='weighted')))\n",
        "\n",
        "from sklearn.metrics import classification_report\n",
        "print('\\nClassification Report\\n')\n",
        "print(classification_report(data_test.Class, predictions, target_names=class_names))"
      ]
    },
    {
      "cell_type": "code",
      "execution_count": null,
      "metadata": {
        "id": "nAjkSkAxpN4e"
      },
      "outputs": [],
      "source": [
        "from sklearn.metrics import confusion_matrix, classification_report, log_loss, cohen_kappa_score, roc_auc_score, roc_curve\n",
        "from sklearn import metrics\n",
        "\n",
        "cm = confusion_matrix(data_test.Class,predictions)\n",
        "\n",
        "TP = cm[0][0]\n",
        "TN = cm[1][1]\n",
        "FP = cm[0][1]\n",
        "FN = cm[1][0]"
      ]
    },
    {
      "cell_type": "code",
      "execution_count": null,
      "metadata": {
        "colab": {
          "base_uri": "https://localhost:8080/"
        },
        "id": "che-oGpopPjj",
        "outputId": "3f4163c3-62c4-429c-e64c-4ef9df788805"
      },
      "outputs": [
        {
          "output_type": "stream",
          "name": "stdout",
          "text": [
            "Sensitivity :  0.8341661461586508\n",
            "Specificity :  0.8915254237288136\n",
            "false positive rate :  0.10847457627118644\n",
            "false negative rate :  0.16583385384134916\n",
            "Negative Predictive Value :  0.7984819734345351\n",
            "False Discovery rate :  0.08746156474205671\n"
          ]
        }
      ],
      "source": [
        "print('Sensitivity : ', TP/(TP+FN))\n",
        "print('Specificity : ', TN/(TN+FP))\n",
        "print('false positive rate : ', FP/(FP+TN))\n",
        "print('false negative rate : ', FN/(FN+TP))\n",
        "print('Negative Predictive Value : ', TN/(TN+FN))\n",
        "print('False Discovery rate : ', FP/(TP+FP))"
      ]
    },
    {
      "cell_type": "code",
      "execution_count": null,
      "metadata": {
        "colab": {
          "base_uri": "https://localhost:8080/"
        },
        "id": "2gJdzV6GpRVn",
        "outputId": "148542bc-ac25-4673-b59a-e1c1a5a65864"
      },
      "outputs": [
        {
          "output_type": "stream",
          "name": "stdout",
          "text": [
            "Mean Absolute Error: 0.30194235\n",
            "Mean Squared Error: 0.14406708\n",
            "Root Mean Squared Error: 0.3795617\n",
            "Cohen_Kappa_Score: 0.5045234502641652\n"
          ]
        }
      ],
      "source": [
        "print('Mean Absolute Error:', metrics.mean_absolute_error(y_test,model.predict(x_test)))\n",
        "print('Mean Squared Error:', metrics.mean_squared_error(y_test,model.predict(x_test)))\n",
        "print('Root Mean Squared Error:', np.sqrt(metrics.mean_squared_error(y_test,model.predict(x_test))))\n",
        "print('Cohen_Kappa_Score:', cohen_kappa_score(data_test.Class, predictions))"
      ]
    },
    {
      "cell_type": "code",
      "execution_count": null,
      "metadata": {
        "colab": {
          "base_uri": "https://localhost:8080/"
        },
        "id": "zhuguOQUpTF9",
        "outputId": "9be60790-f859-46f5-e6f4-e3e6ef1dcb3f"
      },
      "outputs": [
        {
          "output_type": "stream",
          "name": "stdout",
          "text": [
            "predicted: Neutral (0.15)\n"
          ]
        }
      ],
      "source": [
        "#Positive\n",
        "import time \n",
        "\n",
        "message = 'এটা ভুলে গেলে চলবে না যে ব্যাংকটিতে নুতন পরিচালনা পর্ষদ এসেছে তাদের ব্যাংকটির সব কিছু বুঝে উঠতে একটু সময় লাগবে এটাই স্বাভাবিক'\n",
        "\n",
        "start_time = time.time() \n",
        "prediction = predictor.predict(message)\n",
        "\n",
        "print('predicted: {} ({:.2f})'.format(prediction, (time.time() - start_time)))"
      ]
    },
    {
      "cell_type": "code",
      "source": [
        "#Negative\n",
        "import time \n",
        "\n",
        "message = 'বিগত কয়েক বছরের অভিজ্ঞতা বলে ব্যাংকসহ শ্যেনদৃষ্টি যেখানে সর্বনাশ সেখানে'\n",
        "\n",
        "start_time = time.time() \n",
        "prediction = predictor.predict(message)\n",
        "\n",
        "print('predicted: {} ({:.2f})'.format(prediction, (time.time() - start_time)))"
      ],
      "metadata": {
        "colab": {
          "base_uri": "https://localhost:8080/"
        },
        "id": "F2Lr7fDt55F0",
        "outputId": "b60d8d1f-ab82-4e50-bc3a-9f4061d7bd54"
      },
      "execution_count": null,
      "outputs": [
        {
          "output_type": "stream",
          "name": "stdout",
          "text": [
            "predicted: Negative (0.04)\n"
          ]
        }
      ]
    },
    {
      "cell_type": "code",
      "source": [
        "#Neutral\n",
        "import time \n",
        "\n",
        "message = 'আমি চাইতে সমস্যা কি দাম চাইলাম যা দ্যান'\n",
        "\n",
        "start_time = time.time() \n",
        "prediction = predictor.predict(message)\n",
        "\n",
        "print('predicted: {} ({:.2f})'.format(prediction, (time.time() - start_time)))"
      ],
      "metadata": {
        "colab": {
          "base_uri": "https://localhost:8080/"
        },
        "id": "aRzM4nOA56cW",
        "outputId": "3bb99faf-d282-42d9-fb9f-abba630308a7"
      },
      "execution_count": null,
      "outputs": [
        {
          "output_type": "stream",
          "name": "stdout",
          "text": [
            "predicted: Neutral (0.04)\n"
          ]
        }
      ]
    },
    {
      "cell_type": "code",
      "source": [
        "#Very Positive\n",
        "import time \n",
        "\n",
        "message = 'তাহলে তো রডের দাম আরো কমবে'\n",
        "\n",
        "start_time = time.time() \n",
        "prediction = predictor.predict(message)\n",
        "\n",
        "print('predicted: {} ({:.2f})'.format(prediction, (time.time() - start_time)))"
      ],
      "metadata": {
        "colab": {
          "base_uri": "https://localhost:8080/"
        },
        "id": "CoW3NQ9u57OR",
        "outputId": "11b26e74-5fc7-488c-94f1-0beba81b5168"
      },
      "execution_count": null,
      "outputs": [
        {
          "output_type": "stream",
          "name": "stdout",
          "text": [
            "predicted: Neutral (0.04)\n"
          ]
        }
      ]
    },
    {
      "cell_type": "code",
      "source": [
        "#Very Negative\n",
        "import time \n",
        "\n",
        "message = 'জনসংখ্যা আর আয়তনের হিসাবে পাকিস্তানই বেশী পেয়েছে'\n",
        "\n",
        "start_time = time.time() \n",
        "prediction = predictor.predict(message)\n",
        "\n",
        "print('predicted: {} ({:.2f})'.format(prediction, (time.time() - start_time)))"
      ],
      "metadata": {
        "colab": {
          "base_uri": "https://localhost:8080/"
        },
        "id": "IkCgOUfF570W",
        "outputId": "48d051d8-f3fd-4e96-eacb-e755e886df63"
      },
      "execution_count": null,
      "outputs": [
        {
          "output_type": "stream",
          "name": "stdout",
          "text": [
            "predicted: Negative (0.05)\n"
          ]
        }
      ]
    },
    {
      "cell_type": "code",
      "execution_count": null,
      "metadata": {
        "id": "fR1vu_TXpVKm"
      },
      "outputs": [],
      "source": [
        "predictor.save(\"models/bert_model\")"
      ]
    }
  ],
  "metadata": {
    "accelerator": "GPU",
    "colab": {
      "name": "FastText.ipynb",
      "provenance": []
    },
    "kernelspec": {
      "display_name": "Python 3",
      "name": "python3"
    },
    "language_info": {
      "name": "python"
    }
  },
  "nbformat": 4,
  "nbformat_minor": 0
}