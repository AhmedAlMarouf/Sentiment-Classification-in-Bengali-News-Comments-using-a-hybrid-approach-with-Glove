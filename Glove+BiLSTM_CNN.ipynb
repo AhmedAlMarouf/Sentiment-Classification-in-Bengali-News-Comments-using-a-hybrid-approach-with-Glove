{
  "nbformat": 4,
  "nbformat_minor": 0,
  "metadata": {
    "accelerator": "GPU",
    "colab": {
      "name": "Glove+BiLSTM-CNN.ipynb",
      "provenance": [],
      "collapsed_sections": []
    },
    "kernelspec": {
      "display_name": "Python 3",
      "name": "python3"
    },
    "language_info": {
      "name": "python"
    }
  },
  "cells": [
    {
      "cell_type": "code",
      "metadata": {
        "colab": {
          "base_uri": "https://localhost:8080/"
        },
        "id": "8jwHrJ8_dzEt",
        "outputId": "e2070034-d11d-4ce0-85f5-551fe4c29df3"
      },
      "source": [
        "from google.colab import drive\n",
        "drive.mount('/content/drive')"
      ],
      "execution_count": null,
      "outputs": [
        {
          "output_type": "stream",
          "name": "stdout",
          "text": [
            "Drive already mounted at /content/drive; to attempt to forcibly remount, call drive.mount(\"/content/drive\", force_remount=True).\n"
          ]
        }
      ]
    },
    {
      "cell_type": "code",
      "metadata": {
        "id": "LmzUFOvv-ad2"
      },
      "source": [
        "import pandas as pd\n",
        "import numpy as np\n",
        "import nltk\n",
        "\n",
        "from nltk.tokenize import word_tokenize\n",
        "import re\n",
        "from tensorflow.keras.utils import to_categorical\n",
        "\n",
        "data = pd.read_excel('/content/drive/MyDrive/NewsComments/Dataset/news_comments.xlsx')  "
      ],
      "execution_count": null,
      "outputs": []
    },
    {
      "cell_type": "code",
      "metadata": {
        "id": "mOkKun4DwAE-"
      },
      "source": [
        "#importing libraries\n",
        "import pandas as pd\n",
        "import numpy as np\n",
        "import nltk\n",
        "\n",
        "from nltk.tokenize import word_tokenize\n",
        "import re\n",
        "from tensorflow.keras.utils import to_categorical\n",
        "\n",
        "#reading excel files\n",
        "data_train = pd.read_excel('/content/drive/MyDrive/NewsComments/Dataset/news_comments.xlsx')\n",
        "data_test = pd.read_excel('/content/drive/MyDrive/NewsComments/Dataset/news_comments.xlsx')             \n",
        "\n",
        "#train_test split\n",
        "x_train, y_train = data_train['Data'].values, data_train['Class'].values\n",
        "x_test, y_test = data_test['Data'].values, data_test['Class'].values"
      ],
      "execution_count": null,
      "outputs": []
    },
    {
      "cell_type": "code",
      "metadata": {
        "colab": {
          "base_uri": "https://localhost:8080/",
          "height": 353
        },
        "id": "zfi4cjNYSvzo",
        "outputId": "10677420-3e24-455f-a47c-891bcfb7fa70"
      },
      "source": [
        "data = data_train.append(data_test, ignore_index=True)\n",
        "\n",
        "class_names = ['Positive','Very Positive', 'Negative', 'Very Negative', 'Neutral']\n",
        "\n",
        "print('size of training set: %s' % (len(data_train['Data'])))\n",
        "print('size of validation set: %s' % (len(data_test['Data'])))\n",
        "print(data.Class.value_counts())\n",
        "\n",
        "data.head(5)"
      ],
      "execution_count": null,
      "outputs": [
        {
          "output_type": "stream",
          "name": "stdout",
          "text": [
            "size of training set: 13802\n",
            "size of validation set: 13802\n",
            "Very Negative    7856\n",
            "Negative         6396\n",
            "Neutral          5902\n",
            "Very Positive    4560\n",
            "Positive         2890\n",
            "Name: Class, dtype: int64\n"
          ]
        },
        {
          "output_type": "execute_result",
          "data": {
            "text/html": [
              "\n",
              "  <div id=\"df-9656b90e-9a10-46fc-8929-0216fd235c67\">\n",
              "    <div class=\"colab-df-container\">\n",
              "      <div>\n",
              "<style scoped>\n",
              "    .dataframe tbody tr th:only-of-type {\n",
              "        vertical-align: middle;\n",
              "    }\n",
              "\n",
              "    .dataframe tbody tr th {\n",
              "        vertical-align: top;\n",
              "    }\n",
              "\n",
              "    .dataframe thead th {\n",
              "        text-align: right;\n",
              "    }\n",
              "</style>\n",
              "<table border=\"1\" class=\"dataframe\">\n",
              "  <thead>\n",
              "    <tr style=\"text-align: right;\">\n",
              "      <th></th>\n",
              "      <th>SL</th>\n",
              "      <th>Data</th>\n",
              "      <th>Class</th>\n",
              "    </tr>\n",
              "  </thead>\n",
              "  <tbody>\n",
              "    <tr>\n",
              "      <th>0</th>\n",
              "      <td>0.0</td>\n",
              "      <td>লিখার সময় পারলে সত্য লিখার অভ্যাস শিখুন।</td>\n",
              "      <td>Negative</td>\n",
              "    </tr>\n",
              "    <tr>\n",
              "      <th>1</th>\n",
              "      <td>1.0</td>\n",
              "      <td>এটা কেন হচ্ছে? সংশ্লিষ্ট সকলের ডিপ্রেশনের ফলে?...</td>\n",
              "      <td>Negative</td>\n",
              "    </tr>\n",
              "    <tr>\n",
              "      <th>2</th>\n",
              "      <td>2.0</td>\n",
              "      <td>আমাদের দেশের স্বাভাবিক অর্থনৈতিক গতিপ্রবাহকে ব...</td>\n",
              "      <td>Very Negative</td>\n",
              "    </tr>\n",
              "    <tr>\n",
              "      <th>3</th>\n",
              "      <td>3.0</td>\n",
              "      <td>চুরি নয় লুটপাট।</td>\n",
              "      <td>Very Negative</td>\n",
              "    </tr>\n",
              "    <tr>\n",
              "      <th>4</th>\n",
              "      <td>4.0</td>\n",
              "      <td>ইসলামী ব্যাংকের বর্তমান অবস্থা দেখে মনে হয় শাস...</td>\n",
              "      <td>Neutral</td>\n",
              "    </tr>\n",
              "  </tbody>\n",
              "</table>\n",
              "</div>\n",
              "      <button class=\"colab-df-convert\" onclick=\"convertToInteractive('df-9656b90e-9a10-46fc-8929-0216fd235c67')\"\n",
              "              title=\"Convert this dataframe to an interactive table.\"\n",
              "              style=\"display:none;\">\n",
              "        \n",
              "  <svg xmlns=\"http://www.w3.org/2000/svg\" height=\"24px\"viewBox=\"0 0 24 24\"\n",
              "       width=\"24px\">\n",
              "    <path d=\"M0 0h24v24H0V0z\" fill=\"none\"/>\n",
              "    <path d=\"M18.56 5.44l.94 2.06.94-2.06 2.06-.94-2.06-.94-.94-2.06-.94 2.06-2.06.94zm-11 1L8.5 8.5l.94-2.06 2.06-.94-2.06-.94L8.5 2.5l-.94 2.06-2.06.94zm10 10l.94 2.06.94-2.06 2.06-.94-2.06-.94-.94-2.06-.94 2.06-2.06.94z\"/><path d=\"M17.41 7.96l-1.37-1.37c-.4-.4-.92-.59-1.43-.59-.52 0-1.04.2-1.43.59L10.3 9.45l-7.72 7.72c-.78.78-.78 2.05 0 2.83L4 21.41c.39.39.9.59 1.41.59.51 0 1.02-.2 1.41-.59l7.78-7.78 2.81-2.81c.8-.78.8-2.07 0-2.86zM5.41 20L4 18.59l7.72-7.72 1.47 1.35L5.41 20z\"/>\n",
              "  </svg>\n",
              "      </button>\n",
              "      \n",
              "  <style>\n",
              "    .colab-df-container {\n",
              "      display:flex;\n",
              "      flex-wrap:wrap;\n",
              "      gap: 12px;\n",
              "    }\n",
              "\n",
              "    .colab-df-convert {\n",
              "      background-color: #E8F0FE;\n",
              "      border: none;\n",
              "      border-radius: 50%;\n",
              "      cursor: pointer;\n",
              "      display: none;\n",
              "      fill: #1967D2;\n",
              "      height: 32px;\n",
              "      padding: 0 0 0 0;\n",
              "      width: 32px;\n",
              "    }\n",
              "\n",
              "    .colab-df-convert:hover {\n",
              "      background-color: #E2EBFA;\n",
              "      box-shadow: 0px 1px 2px rgba(60, 64, 67, 0.3), 0px 1px 3px 1px rgba(60, 64, 67, 0.15);\n",
              "      fill: #174EA6;\n",
              "    }\n",
              "\n",
              "    [theme=dark] .colab-df-convert {\n",
              "      background-color: #3B4455;\n",
              "      fill: #D2E3FC;\n",
              "    }\n",
              "\n",
              "    [theme=dark] .colab-df-convert:hover {\n",
              "      background-color: #434B5C;\n",
              "      box-shadow: 0px 1px 3px 1px rgba(0, 0, 0, 0.15);\n",
              "      filter: drop-shadow(0px 1px 2px rgba(0, 0, 0, 0.3));\n",
              "      fill: #FFFFFF;\n",
              "    }\n",
              "  </style>\n",
              "\n",
              "      <script>\n",
              "        const buttonEl =\n",
              "          document.querySelector('#df-9656b90e-9a10-46fc-8929-0216fd235c67 button.colab-df-convert');\n",
              "        buttonEl.style.display =\n",
              "          google.colab.kernel.accessAllowed ? 'block' : 'none';\n",
              "\n",
              "        async function convertToInteractive(key) {\n",
              "          const element = document.querySelector('#df-9656b90e-9a10-46fc-8929-0216fd235c67');\n",
              "          const dataTable =\n",
              "            await google.colab.kernel.invokeFunction('convertToInteractive',\n",
              "                                                     [key], {});\n",
              "          if (!dataTable) return;\n",
              "\n",
              "          const docLinkHtml = 'Like what you see? Visit the ' +\n",
              "            '<a target=\"_blank\" href=https://colab.research.google.com/notebooks/data_table.ipynb>data table notebook</a>'\n",
              "            + ' to learn more about interactive tables.';\n",
              "          element.innerHTML = '';\n",
              "          dataTable['output_type'] = 'display_data';\n",
              "          await google.colab.output.renderOutput(dataTable, element);\n",
              "          const docLink = document.createElement('div');\n",
              "          docLink.innerHTML = docLinkHtml;\n",
              "          element.appendChild(docLink);\n",
              "        }\n",
              "      </script>\n",
              "    </div>\n",
              "  </div>\n",
              "  "
            ],
            "text/plain": [
              "    SL                                               Data          Class\n",
              "0  0.0           লিখার সময় পারলে সত্য লিখার অভ্যাস শিখুন।       Negative\n",
              "1  1.0  এটা কেন হচ্ছে? সংশ্লিষ্ট সকলের ডিপ্রেশনের ফলে?...       Negative\n",
              "2  2.0  আমাদের দেশের স্বাভাবিক অর্থনৈতিক গতিপ্রবাহকে ব...  Very Negative\n",
              "3  3.0                                    চুরি নয় লুটপাট।  Very Negative\n",
              "4  4.0  ইসলামী ব্যাংকের বর্তমান অবস্থা দেখে মনে হয় শাস...        Neutral"
            ]
          },
          "metadata": {},
          "execution_count": 27
        }
      ]
    },
    {
      "cell_type": "code",
      "metadata": {
        "id": "_x3VtCQmA-Ye"
      },
      "source": [
        "def clean_text(data):\n",
        "    whitespace = re.compile(u\"[\\s\\u0020\\u00a0\\u1680\\u180e\\u202f\\u205f\\u3000\\u2000-\\u200a]+\", re.UNICODE)\n",
        "    bangla_digits = u\"[\\u09E6\\u09E7\\u09E8\\u09E9\\u09EA\\u09EB\\u09EC\\u09ED\\u09EE\\u09EF]+\"\n",
        "    english_chars = u\"[a-zA-Z0-9]\"\n",
        "    punc = u\"[(),$%^&*+={}\\[\\]:\\\"|\\'\\~`<>/,¦!?½£¶¼©⅐⅑⅒⅓⅔⅕⅖⅗⅘⅙⅚⅛⅜⅝⅞⅟↉¤¿º;-]+\"\n",
        "    bangla_fullstop = u\"\\u0964\"     #bangla fullstop(dari)\n",
        "    punctSeq   = u\"['\\\"“”‘’]+|[.?!,…]+|[:;]+\"\n",
        "    data = re.sub(bangla_digits, \" \", data)\n",
        "    data = re.sub(punc, \" \", data)\n",
        "    data = re.sub(english_chars, \" \", data)\n",
        "    data = re.sub(bangla_fullstop, \" \", data)\n",
        "    data = re.sub(punctSeq, \" \", data)\n",
        "    data = whitespace.sub(\" \", data).strip()\n",
        "    \n",
        "    data = re.sub(r'https?:\\/\\/.*[\\r\\n]*', '', data, flags=re.MULTILINE)\n",
        "    data = re.sub(r'\\<a href', ' ', data)\n",
        "    data = re.sub(r'&amp;‘:‘ ’', '', data) \n",
        "    data = re.sub(r'[_\"\\-;%()|+&=*%.,!?:#$@\\[\\]/]। ,', ' ', data)\n",
        "    data = re.sub(r'<br />', ' ', data)\n",
        "    data = re.sub(r'\\'', ' ', data)\n",
        "    data = re.sub(r\"[\\@$#%~+-\\.\\'।\\\"]\",\" \",data)\n",
        "    data = re.sub(r\"(?m)^\\s+\", \"\", data)\n",
        "    data = re.sub(\"[()]\",\"\",data)\n",
        "    data = re.sub(\"[‘’]\",\"\",data)\n",
        "    data = re.sub(\"[!]\",\"\",data)\n",
        "    data = re.sub(\"[/]\",\"\",data)\n",
        "    data = re.sub(\"[:]\",\"\",data)\n",
        "    data= re.sub('\\ |\\?|\\.|\\!|\\/|\\;|\\:', ' ',data)\n",
        "    data= data.strip(\"/\")\n",
        "    data = re.sub(r\"(#[\\d\\w\\.]+)\", '', data)\n",
        "    data = re.sub(r\"(@[\\d\\w\\.]+)\", '', data)\n",
        "    data = word_tokenize(data)\n",
        "    \n",
        "    return data"
      ],
      "execution_count": null,
      "outputs": []
    },
    {
      "cell_type": "code",
      "metadata": {
        "colab": {
          "base_uri": "https://localhost:8080/"
        },
        "id": "iuWMVv6MIFQs",
        "outputId": "f8cae4b1-c0f4-44b6-f296-839d1e28e5ea"
      },
      "source": [
        "import nltk\n",
        "nltk.download('punkt')"
      ],
      "execution_count": null,
      "outputs": [
        {
          "output_type": "stream",
          "name": "stdout",
          "text": [
            "[nltk_data] Downloading package punkt to /root/nltk_data...\n",
            "[nltk_data]   Package punkt is already up-to-date!\n"
          ]
        },
        {
          "output_type": "execute_result",
          "data": {
            "text/plain": [
              "True"
            ]
          },
          "metadata": {},
          "execution_count": 29
        }
      ]
    },
    {
      "cell_type": "code",
      "metadata": {
        "colab": {
          "base_uri": "https://localhost:8080/"
        },
        "id": "7p6xu3519Ukn",
        "outputId": "2d7a88be-e894-4d0d-d877-ac63baef2794"
      },
      "source": [
        "texts = [' '.join(clean_text(text)) for text in data.Data]\n",
        "\n",
        "texts_train = [' '.join(clean_text(text)) for text in x_train]\n",
        "texts_test = [' '.join(clean_text(text)) for text in x_test]\n",
        "\n",
        "print(texts_train[50])"
      ],
      "execution_count": null,
      "outputs": [
        {
          "output_type": "stream",
          "name": "stdout",
          "text": [
            "যারা লুট পাট করেছে তাদেরকে তিনি চিনেন এবং ভালো করে চিনেন কিন্তু কেনো কোনো ব্যবস্থা নিচ্ছেন না বা নিতে পারছেন না তা বলেননি ফার্মাস ব্যাংক তারপরও চলবে উনি কী এখানেও জনগণের টাকা থেকে জোগান দিয়ে চালু রাখবেন এর পরও বলবেন ওনাদের অর্থব্যবস্থাপনা স্বচ্ছ ওনরা জবাবদিহিতায় আছেন\n"
          ]
        }
      ]
    },
    {
      "cell_type": "code",
      "metadata": {
        "colab": {
          "base_uri": "https://localhost:8080/"
        },
        "id": "FQJqXMRFMLYF",
        "outputId": "3363111b-e6c5-43ef-99f2-59ef571f7459"
      },
      "source": [
        "from keras.preprocessing.text import Tokenizer\n",
        "from keras.preprocessing.sequence import pad_sequences\n",
        "\n",
        "#Tokenize the sentences\n",
        "tokenizer = Tokenizer()\n",
        "\n",
        "#preparing vocabulary\n",
        "tokenizer.fit_on_texts(texts)\n",
        "\n",
        "#converting text into integer sequences\n",
        "x_train_seq  = tokenizer.texts_to_sequences(texts_train) \n",
        "x_test_seq = tokenizer.texts_to_sequences(texts_test)\n",
        "\n",
        "#padding to prepare sequences of same length\n",
        "x_train_seq  = pad_sequences(x_train_seq, maxlen=500)\n",
        "x_test_seq = pad_sequences(x_test_seq, maxlen=500)\n",
        "x_train_seq"
      ],
      "execution_count": null,
      "outputs": [
        {
          "output_type": "execute_result",
          "data": {
            "text/plain": [
              "array([[   0,    0,    0, ..., 5365, 2590, 2784],\n",
              "       [   0,    0,    0, ..., 3791, 2997,  361],\n",
              "       [   0,    0,    0, ...,   52,  153, 2998],\n",
              "       ...,\n",
              "       [   0,    0,    0, ..., 1057,  162,  111],\n",
              "       [   0,    0,    0, ...,   80,  284,  942],\n",
              "       [   0,    0,    0, ...,  381,  139,    1]], dtype=int32)"
            ]
          },
          "metadata": {},
          "execution_count": 31
        }
      ]
    },
    {
      "cell_type": "code",
      "metadata": {
        "colab": {
          "base_uri": "https://localhost:8080/"
        },
        "id": "vO7-s4oXJmRM",
        "outputId": "01185ca4-940f-4b11-800c-ec1e3479b862"
      },
      "source": [
        "encoding = {\n",
        "    'Positive': 0,\n",
        "    'Very Positive': 1,\n",
        "    'Negative': 2,\n",
        "    'Very Negative': 3,\n",
        "    'Neutral': 4          \n",
        " \n",
        "}\n",
        "\n",
        "y_train = [encoding[x] for x in data_train.Class]\n",
        "y_test = [encoding[x] for x in data_test.Class]\n",
        "\n",
        "y_train = to_categorical(y_train)\n",
        "y_test = to_categorical(y_test)\n",
        "\n",
        "y_train"
      ],
      "execution_count": null,
      "outputs": [
        {
          "output_type": "execute_result",
          "data": {
            "text/plain": [
              "array([[0., 0., 1., 0., 0.],\n",
              "       [0., 0., 1., 0., 0.],\n",
              "       [0., 0., 0., 1., 0.],\n",
              "       ...,\n",
              "       [0., 0., 0., 0., 1.],\n",
              "       [0., 0., 0., 0., 1.],\n",
              "       [0., 0., 0., 0., 1.]], dtype=float32)"
            ]
          },
          "metadata": {},
          "execution_count": 32
        }
      ]
    },
    {
      "cell_type": "code",
      "metadata": {
        "colab": {
          "base_uri": "https://localhost:8080/"
        },
        "id": "hlxuywQ8WfxH",
        "outputId": "2ce63a01-04f4-4076-957b-d9905930eef6"
      },
      "source": [
        "vocab_size=len(tokenizer.word_index) + 1 #+1 for padding\n",
        "print(vocab_size)\n",
        "max_seq_len = 100\n",
        "GLOVE_DIM = 300"
      ],
      "execution_count": null,
      "outputs": [
        {
          "output_type": "stream",
          "name": "stdout",
          "text": [
            "33369\n"
          ]
        }
      ]
    },
    {
      "cell_type": "code",
      "metadata": {
        "id": "BXYQ3_0q7H9L"
      },
      "source": [
        "glove_file = '/content/drive/MyDrive/glove bangla vectors/bangla/bn_glove.39M.300d.txt'\n",
        "emb_dict = {}\n",
        "glove = open(glove_file)\n",
        "for line in glove:\n",
        "    values = line.split()\n",
        "    word = values[0]\n",
        "    vector = np.asarray(values[1:], dtype='float32')\n",
        "    emb_dict[word] = vector\n",
        "glove.close()\n",
        "\n",
        "NB_WORDS = vocab_size\n",
        "MAX_LEN = max_seq_len\n",
        "\n",
        "emb_matrix = np.zeros((NB_WORDS, GLOVE_DIM))\n",
        "for w, i in tokenizer.word_index.items():\n",
        "    if i < NB_WORDS:\n",
        "        vect = emb_dict.get(w)\n",
        "        if vect is not None:\n",
        "          emb_matrix[i] = vect\n",
        "    else:\n",
        "        break"
      ],
      "execution_count": null,
      "outputs": []
    },
    {
      "cell_type": "code",
      "metadata": {
        "id": "K_yUvSFB7J-S"
      },
      "source": [
        "from keras.layers import Embedding\n",
        "embedd_layer = Embedding(vocab_size,\n",
        "                         GLOVE_DIM,\n",
        "                         input_length = 500,\n",
        "                         weights = [emb_matrix],\n",
        "                         trainable=False)\n",
        "lstm_size= 128\n",
        "num_classes=5"
      ],
      "execution_count": null,
      "outputs": []
    },
    {
      "cell_type": "code",
      "metadata": {
        "colab": {
          "base_uri": "https://localhost:8080/"
        },
        "id": "xuWUQI1JMVfM",
        "outputId": "a33fac91-b725-4571-b80f-b75518a7ff35"
      },
      "source": [
        "#deep learning library\n",
        "from keras.models import Sequential\n",
        "from keras.layers import Bidirectional,LSTM\n",
        "from keras.layers import Embedding, Dense, Dropout, SpatialDropout1D\n",
        "from keras.layers import Conv1D, GlobalMaxPooling1D, MaxPooling1D\n",
        "from keras.callbacks import ModelCheckpoint\n",
        "\n",
        "model = Sequential()\n",
        "model.add(embedd_layer)\n",
        "\n",
        "model.add(SpatialDropout1D(0.2))\n",
        "model.add(Bidirectional(LSTM(lstm_size, return_sequences = True)))\n",
        "model.add(Dropout(0.5))\n",
        "\n",
        "model.add(Conv1D(filters=32, kernel_size=3, padding='same', activation='relu'))\n",
        "model.add(GlobalMaxPooling1D())\n",
        "\n",
        "model.add(Dropout(0.5))\n",
        "\n",
        "\n",
        "model.add(Dense(num_classes, activation='softmax'))\n",
        "\n",
        "model.compile(loss = 'categorical_crossentropy', optimizer = 'adam', metrics = ['accuracy'])\n",
        "model.summary()\n"
      ],
      "execution_count": null,
      "outputs": [
        {
          "output_type": "stream",
          "name": "stdout",
          "text": [
            "Model: \"sequential_1\"\n",
            "_________________________________________________________________\n",
            " Layer (type)                Output Shape              Param #   \n",
            "=================================================================\n",
            " embedding_2 (Embedding)     (None, 500, 300)          10010700  \n",
            "                                                                 \n",
            " spatial_dropout1d_1 (Spatia  (None, 500, 300)         0         \n",
            " lDropout1D)                                                     \n",
            "                                                                 \n",
            " bidirectional_1 (Bidirectio  (None, 500, 256)         439296    \n",
            " nal)                                                            \n",
            "                                                                 \n",
            " dropout_2 (Dropout)         (None, 500, 256)          0         \n",
            "                                                                 \n",
            " conv1d_1 (Conv1D)           (None, 500, 32)           24608     \n",
            "                                                                 \n",
            " global_max_pooling1d_1 (Glo  (None, 32)               0         \n",
            " balMaxPooling1D)                                                \n",
            "                                                                 \n",
            " dropout_3 (Dropout)         (None, 32)                0         \n",
            "                                                                 \n",
            " dense_1 (Dense)             (None, 5)                 165       \n",
            "                                                                 \n",
            "=================================================================\n",
            "Total params: 10,474,769\n",
            "Trainable params: 464,069\n",
            "Non-trainable params: 10,010,700\n",
            "_________________________________________________________________\n"
          ]
        }
      ]
    },
    {
      "cell_type": "code",
      "metadata": {
        "colab": {
          "base_uri": "https://localhost:8080/",
          "height": 975
        },
        "id": "Dp4LuR52ffPf",
        "outputId": "6dc28d49-f011-4590-835e-1f648a99b002"
      },
      "source": [
        "from keras.utils.vis_utils import plot_model\n",
        "plot_model(model, to_file='model_plot.png', show_shapes=True, show_layer_names=True)\n"
      ],
      "execution_count": null,
      "outputs": [
        {
          "output_type": "execute_result",
          "data": {
            "image/png": "[encoded data removed]",
            "text/plain": [
              "<IPython.core.display.Image object>"
            ]
          },
          "metadata": {},
          "execution_count": 37
        }
      ]
    },
    {
      "cell_type": "code",
      "metadata": {
        "colab": {
          "base_uri": "https://localhost:8080/"
        },
        "id": "s7iPFWxSKYrE",
        "outputId": "dbc671c0-3c76-4037-d906-1ec9a7181ea8"
      },
      "source": [
        "from time import time\n",
        "t1 = time()\n",
        "\n",
        "batch_size = 512\n",
        "epochs = 80\n",
        "\n",
        "print(x_test_seq.shape)\n",
        "print(y_test.shape)\n",
        "\n",
        "print(x_train_seq.shape)\n",
        "print(y_train.shape)"
      ],
      "execution_count": null,
      "outputs": [
        {
          "output_type": "stream",
          "name": "stdout",
          "text": [
            "(13802, 500)\n",
            "(13802, 5)\n",
            "(13802, 500)\n",
            "(13802, 5)\n"
          ]
        }
      ]
    },
    {
      "cell_type": "code",
      "metadata": {
        "colab": {
          "base_uri": "https://localhost:8080/"
        },
        "id": "Vwf6MN1Eg1o7",
        "outputId": "90b857e5-c9a9-4350-f2fd-a4c25086f68b"
      },
      "source": [
        "hist = model.fit(x_train_seq, y_train, \n",
        "                 batch_size=batch_size,\n",
        "                 epochs=epochs,\n",
        "                 validation_data=(x_test_seq,y_test))"
      ],
      "execution_count": null,
      "outputs": [
        {
          "output_type": "stream",
          "name": "stdout",
          "text": [
            "Epoch 1/80\n",
            "27/27 [==============================] - 29s 942ms/step - loss: 1.6163 - accuracy: 0.2560 - val_loss: 1.5934 - val_accuracy: 0.2639\n",
            "Epoch 2/80\n",
            "27/27 [==============================] - 24s 898ms/step - loss: 1.5688 - accuracy: 0.2763 - val_loss: 1.5706 - val_accuracy: 0.3070\n",
            "Epoch 3/80\n",
            "27/27 [==============================] - 24s 907ms/step - loss: 1.5470 - accuracy: 0.3007 - val_loss: 1.5296 - val_accuracy: 0.3468\n",
            "Epoch 4/80\n",
            "27/27 [==============================] - 24s 910ms/step - loss: 1.5215 - accuracy: 0.3253 - val_loss: 1.5212 - val_accuracy: 0.3494\n",
            "Epoch 5/80\n",
            "27/27 [==============================] - 24s 910ms/step - loss: 1.5030 - accuracy: 0.3341 - val_loss: 1.4865 - val_accuracy: 0.3689\n",
            "Epoch 6/80\n",
            "27/27 [==============================] - 24s 910ms/step - loss: 1.4895 - accuracy: 0.3448 - val_loss: 1.4929 - val_accuracy: 0.3720\n",
            "Epoch 7/80\n",
            "27/27 [==============================] - 24s 909ms/step - loss: 1.4874 - accuracy: 0.3465 - val_loss: 1.4701 - val_accuracy: 0.3706\n",
            "Epoch 8/80\n",
            "27/27 [==============================] - 24s 908ms/step - loss: 1.4748 - accuracy: 0.3490 - val_loss: 1.4739 - val_accuracy: 0.3853\n",
            "Epoch 9/80\n",
            "27/27 [==============================] - 24s 909ms/step - loss: 1.4708 - accuracy: 0.3560 - val_loss: 1.4599 - val_accuracy: 0.3939\n",
            "Epoch 10/80\n",
            "27/27 [==============================] - 24s 909ms/step - loss: 1.4622 - accuracy: 0.3610 - val_loss: 1.4647 - val_accuracy: 0.3983\n",
            "Epoch 11/80\n",
            "27/27 [==============================] - 24s 907ms/step - loss: 1.4543 - accuracy: 0.3683 - val_loss: 1.4413 - val_accuracy: 0.3988\n",
            "Epoch 12/80\n",
            "27/27 [==============================] - 24s 908ms/step - loss: 1.4405 - accuracy: 0.3720 - val_loss: 1.4436 - val_accuracy: 0.3954\n",
            "Epoch 13/80\n",
            "27/27 [==============================] - 24s 907ms/step - loss: 1.4414 - accuracy: 0.3748 - val_loss: 1.4271 - val_accuracy: 0.4059\n",
            "Epoch 14/80\n",
            "27/27 [==============================] - 24s 907ms/step - loss: 1.4309 - accuracy: 0.3758 - val_loss: 1.4255 - val_accuracy: 0.4152\n",
            "Epoch 15/80\n",
            "27/27 [==============================] - 24s 905ms/step - loss: 1.4235 - accuracy: 0.3857 - val_loss: 1.4149 - val_accuracy: 0.4123\n",
            "Epoch 16/80\n",
            "27/27 [==============================] - 24s 905ms/step - loss: 1.4203 - accuracy: 0.3878 - val_loss: 1.4023 - val_accuracy: 0.4258\n",
            "Epoch 17/80\n",
            "27/27 [==============================] - 24s 906ms/step - loss: 1.4097 - accuracy: 0.3904 - val_loss: 1.3830 - val_accuracy: 0.4269\n",
            "Epoch 18/80\n",
            "27/27 [==============================] - 24s 906ms/step - loss: 1.4065 - accuracy: 0.3936 - val_loss: 1.3886 - val_accuracy: 0.4155\n",
            "Epoch 19/80\n",
            "27/27 [==============================] - 24s 905ms/step - loss: 1.3997 - accuracy: 0.3942 - val_loss: 1.3797 - val_accuracy: 0.4334\n",
            "Epoch 20/80\n",
            "27/27 [==============================] - 24s 905ms/step - loss: 1.3824 - accuracy: 0.4075 - val_loss: 1.3947 - val_accuracy: 0.4425\n",
            "Epoch 21/80\n",
            "27/27 [==============================] - 24s 906ms/step - loss: 1.3803 - accuracy: 0.4051 - val_loss: 1.3867 - val_accuracy: 0.4416\n",
            "Epoch 22/80\n",
            "27/27 [==============================] - 24s 905ms/step - loss: 1.3738 - accuracy: 0.4082 - val_loss: 1.3690 - val_accuracy: 0.4497\n",
            "Epoch 23/80\n",
            "27/27 [==============================] - 24s 906ms/step - loss: 1.3615 - accuracy: 0.4123 - val_loss: 1.3457 - val_accuracy: 0.4652\n",
            "Epoch 24/80\n",
            "27/27 [==============================] - 24s 903ms/step - loss: 1.3528 - accuracy: 0.4205 - val_loss: 1.3170 - val_accuracy: 0.4771\n",
            "Epoch 25/80\n",
            "27/27 [==============================] - 24s 903ms/step - loss: 1.3402 - accuracy: 0.4308 - val_loss: 1.2808 - val_accuracy: 0.4733\n",
            "Epoch 26/80\n",
            "27/27 [==============================] - 24s 903ms/step - loss: 1.3263 - accuracy: 0.4382 - val_loss: 1.2729 - val_accuracy: 0.4925\n",
            "Epoch 27/80\n",
            "27/27 [==============================] - 24s 902ms/step - loss: 1.3135 - accuracy: 0.4348 - val_loss: 1.2561 - val_accuracy: 0.4964\n",
            "Epoch 28/80\n",
            "27/27 [==============================] - 24s 905ms/step - loss: 1.2987 - accuracy: 0.4438 - val_loss: 1.2228 - val_accuracy: 0.5136\n",
            "Epoch 29/80\n",
            "27/27 [==============================] - 24s 903ms/step - loss: 1.2877 - accuracy: 0.4525 - val_loss: 1.2559 - val_accuracy: 0.5120\n",
            "Epoch 30/80\n",
            "27/27 [==============================] - 24s 903ms/step - loss: 1.2776 - accuracy: 0.4590 - val_loss: 1.2069 - val_accuracy: 0.5156\n",
            "Epoch 31/80\n",
            "27/27 [==============================] - 24s 905ms/step - loss: 1.2511 - accuracy: 0.4731 - val_loss: 1.1885 - val_accuracy: 0.5259\n",
            "Epoch 32/80\n",
            "27/27 [==============================] - 24s 904ms/step - loss: 1.2394 - accuracy: 0.4776 - val_loss: 1.1450 - val_accuracy: 0.5445\n",
            "Epoch 33/80\n",
            "27/27 [==============================] - 24s 903ms/step - loss: 1.2282 - accuracy: 0.4807 - val_loss: 1.1620 - val_accuracy: 0.5672\n",
            "Epoch 34/80\n",
            "27/27 [==============================] - 24s 903ms/step - loss: 1.2001 - accuracy: 0.4967 - val_loss: 1.1000 - val_accuracy: 0.5748\n",
            "Epoch 35/80\n",
            "27/27 [==============================] - 24s 904ms/step - loss: 1.1991 - accuracy: 0.5021 - val_loss: 1.1275 - val_accuracy: 0.5877\n",
            "Epoch 36/80\n",
            "27/27 [==============================] - 24s 905ms/step - loss: 1.1630 - accuracy: 0.5120 - val_loss: 1.0910 - val_accuracy: 0.5811\n",
            "Epoch 37/80\n",
            "27/27 [==============================] - 24s 903ms/step - loss: 1.1567 - accuracy: 0.5175 - val_loss: 1.0640 - val_accuracy: 0.5861\n",
            "Epoch 38/80\n",
            "27/27 [==============================] - 24s 903ms/step - loss: 1.1502 - accuracy: 0.5225 - val_loss: 1.0423 - val_accuracy: 0.6235\n",
            "Epoch 39/80\n",
            "27/27 [==============================] - 24s 904ms/step - loss: 1.1219 - accuracy: 0.5275 - val_loss: 0.9740 - val_accuracy: 0.6093\n",
            "Epoch 40/80\n",
            "27/27 [==============================] - 24s 902ms/step - loss: 1.1194 - accuracy: 0.5311 - val_loss: 0.9841 - val_accuracy: 0.6490\n",
            "Epoch 41/80\n",
            "27/27 [==============================] - 24s 903ms/step - loss: 1.0891 - accuracy: 0.5464 - val_loss: 0.9614 - val_accuracy: 0.6372\n",
            "Epoch 42/80\n",
            "27/27 [==============================] - 24s 904ms/step - loss: 1.0655 - accuracy: 0.5560 - val_loss: 0.9358 - val_accuracy: 0.6664\n",
            "Epoch 43/80\n",
            "27/27 [==============================] - 24s 903ms/step - loss: 1.0400 - accuracy: 0.5706 - val_loss: 0.9488 - val_accuracy: 0.6727\n",
            "Epoch 44/80\n",
            "27/27 [==============================] - 24s 906ms/step - loss: 1.0236 - accuracy: 0.5753 - val_loss: 0.8614 - val_accuracy: 0.6824\n",
            "Epoch 45/80\n",
            "27/27 [==============================] - 24s 905ms/step - loss: 1.0171 - accuracy: 0.5879 - val_loss: 0.8605 - val_accuracy: 0.6911\n",
            "Epoch 46/80\n",
            "27/27 [==============================] - 24s 905ms/step - loss: 0.9991 - accuracy: 0.5898 - val_loss: 0.9305 - val_accuracy: 0.6835\n",
            "Epoch 47/80\n",
            "27/27 [==============================] - 24s 905ms/step - loss: 0.9766 - accuracy: 0.5936 - val_loss: 0.8538 - val_accuracy: 0.7082\n",
            "Epoch 48/80\n",
            "27/27 [==============================] - 24s 907ms/step - loss: 0.9548 - accuracy: 0.6115 - val_loss: 0.8420 - val_accuracy: 0.7136\n",
            "Epoch 49/80\n",
            "27/27 [==============================] - 24s 904ms/step - loss: 0.9425 - accuracy: 0.6160 - val_loss: 0.7975 - val_accuracy: 0.7387\n",
            "Epoch 50/80\n",
            "27/27 [==============================] - 24s 903ms/step - loss: 0.9320 - accuracy: 0.6258 - val_loss: 0.7896 - val_accuracy: 0.7314\n",
            "Epoch 51/80\n",
            "27/27 [==============================] - 24s 902ms/step - loss: 0.9233 - accuracy: 0.6304 - val_loss: 0.7621 - val_accuracy: 0.7470\n",
            "Epoch 52/80\n",
            "27/27 [==============================] - 24s 903ms/step - loss: 0.9041 - accuracy: 0.6337 - val_loss: 0.7238 - val_accuracy: 0.7522\n",
            "Epoch 53/80\n",
            "27/27 [==============================] - 24s 902ms/step - loss: 0.8730 - accuracy: 0.6507 - val_loss: 0.6881 - val_accuracy: 0.7708\n",
            "Epoch 54/80\n",
            "27/27 [==============================] - 24s 902ms/step - loss: 0.8599 - accuracy: 0.6551 - val_loss: 0.6852 - val_accuracy: 0.7787\n",
            "Epoch 55/80\n",
            "27/27 [==============================] - 24s 906ms/step - loss: 0.8465 - accuracy: 0.6598 - val_loss: 0.6807 - val_accuracy: 0.7787\n",
            "Epoch 56/80\n",
            "27/27 [==============================] - 24s 906ms/step - loss: 0.8280 - accuracy: 0.6679 - val_loss: 0.7078 - val_accuracy: 0.7806\n",
            "Epoch 57/80\n",
            "27/27 [==============================] - 24s 904ms/step - loss: 0.8152 - accuracy: 0.6746 - val_loss: 0.6835 - val_accuracy: 0.7705\n",
            "Epoch 58/80\n",
            "27/27 [==============================] - 24s 905ms/step - loss: 0.8058 - accuracy: 0.6774 - val_loss: 0.6283 - val_accuracy: 0.8076\n",
            "Epoch 59/80\n",
            "27/27 [==============================] - 24s 904ms/step - loss: 0.8021 - accuracy: 0.6882 - val_loss: 0.6004 - val_accuracy: 0.8014\n",
            "Epoch 60/80\n",
            "27/27 [==============================] - 24s 905ms/step - loss: 0.7808 - accuracy: 0.6916 - val_loss: 0.6292 - val_accuracy: 0.7968\n",
            "Epoch 61/80\n",
            "27/27 [==============================] - 24s 903ms/step - loss: 0.7635 - accuracy: 0.6949 - val_loss: 0.6177 - val_accuracy: 0.8005\n",
            "Epoch 62/80\n",
            "27/27 [==============================] - 24s 904ms/step - loss: 0.7730 - accuracy: 0.6925 - val_loss: 0.6293 - val_accuracy: 0.8071\n",
            "Epoch 63/80\n",
            "27/27 [==============================] - 24s 904ms/step - loss: 0.7597 - accuracy: 0.7007 - val_loss: 0.5564 - val_accuracy: 0.8260\n",
            "Epoch 64/80\n",
            "27/27 [==============================] - 24s 905ms/step - loss: 0.7379 - accuracy: 0.7126 - val_loss: 0.5736 - val_accuracy: 0.8121\n",
            "Epoch 65/80\n",
            "27/27 [==============================] - 24s 904ms/step - loss: 0.7235 - accuracy: 0.7147 - val_loss: 0.4895 - val_accuracy: 0.8471\n",
            "Epoch 66/80\n",
            "27/27 [==============================] - 24s 903ms/step - loss: 0.7052 - accuracy: 0.7252 - val_loss: 0.4912 - val_accuracy: 0.8450\n",
            "Epoch 67/80\n",
            "27/27 [==============================] - 24s 905ms/step - loss: 0.6790 - accuracy: 0.7342 - val_loss: 0.4917 - val_accuracy: 0.8499\n",
            "Epoch 68/80\n",
            "27/27 [==============================] - 24s 904ms/step - loss: 0.6638 - accuracy: 0.7476 - val_loss: 0.4906 - val_accuracy: 0.8599\n",
            "Epoch 69/80\n",
            "27/27 [==============================] - 24s 904ms/step - loss: 0.6630 - accuracy: 0.7439 - val_loss: 0.4456 - val_accuracy: 0.8654\n",
            "Epoch 70/80\n",
            "27/27 [==============================] - 24s 904ms/step - loss: 0.6642 - accuracy: 0.7445 - val_loss: 0.5125 - val_accuracy: 0.8545\n",
            "Epoch 71/80\n",
            "27/27 [==============================] - 24s 904ms/step - loss: 0.6518 - accuracy: 0.7521 - val_loss: 0.4393 - val_accuracy: 0.8731\n",
            "Epoch 72/80\n",
            "27/27 [==============================] - 24s 906ms/step - loss: 0.6430 - accuracy: 0.7533 - val_loss: 0.4467 - val_accuracy: 0.8666\n",
            "Epoch 73/80\n",
            "27/27 [==============================] - 24s 903ms/step - loss: 0.6373 - accuracy: 0.7570 - val_loss: 0.4733 - val_accuracy: 0.8721\n",
            "Epoch 74/80\n",
            "27/27 [==============================] - 24s 903ms/step - loss: 0.6135 - accuracy: 0.7656 - val_loss: 0.4281 - val_accuracy: 0.8792\n",
            "Epoch 75/80\n",
            "27/27 [==============================] - 24s 903ms/step - loss: 0.6021 - accuracy: 0.7705 - val_loss: 0.4357 - val_accuracy: 0.8813\n",
            "Epoch 76/80\n",
            "27/27 [==============================] - 24s 903ms/step - loss: 0.6011 - accuracy: 0.7726 - val_loss: 0.4403 - val_accuracy: 0.8864\n",
            "Epoch 77/80\n",
            "27/27 [==============================] - 24s 905ms/step - loss: 0.5907 - accuracy: 0.7766 - val_loss: 0.4245 - val_accuracy: 0.8785\n",
            "Epoch 78/80\n",
            "27/27 [==============================] - 24s 905ms/step - loss: 0.5928 - accuracy: 0.7774 - val_loss: 0.3818 - val_accuracy: 0.8916\n",
            "Epoch 79/80\n",
            "27/27 [==============================] - 24s 903ms/step - loss: 0.5752 - accuracy: 0.7847 - val_loss: 0.3816 - val_accuracy: 0.8928\n",
            "Epoch 80/80\n",
            "27/27 [==============================] - 24s 903ms/step - loss: 0.5540 - accuracy: 0.7900 - val_loss: 0.3381 - val_accuracy: 0.8989\n"
          ]
        }
      ]
    },
    {
      "cell_type": "code",
      "metadata": {
        "colab": {
          "base_uri": "https://localhost:8080/",
          "height": 573
        },
        "id": "zytwWf_TkuK1",
        "outputId": "53bca6a7-90c6-4621-b8c8-b4d4fc6f9091"
      },
      "source": [
        "from sklearn.metrics import confusion_matrix , f1_score\n",
        "import itertools\n",
        "import matplotlib.pyplot as plt\n",
        "\n",
        "# Accuracy\n",
        "plt.plot(hist.history['accuracy'])\n",
        "plt.plot(hist.history['val_accuracy'])\n",
        "plt.title('Trainging and Validation Accuracy')\n",
        "plt.ylabel('Accuracy')\n",
        "plt.xlabel('Epoch')\n",
        "plt.legend(['Training Acc', 'Validation Acc'], loc='upper left')\n",
        "plt.show()\n",
        "\n",
        "# Loss\n",
        "plt.plot(hist.history['loss'])\n",
        "plt.plot(hist.history['val_loss'])\n",
        "plt.title('Trainging and Validation Loss')\n",
        "plt.ylabel('Loss')\n",
        "plt.xlabel('Epoch')\n",
        "plt.legend(['Training Loss', 'Validation Loss'], loc='upper left')\n",
        "plt.show()"
      ],
      "execution_count": null,
      "outputs": [
        {
          "output_type": "display_data",
          "data": {
            "image/png": "[encoded data removed]",
            "text/plain": [
              "<Figure size 432x288 with 1 Axes>"
            ]
          },
          "metadata": {
            "needs_background": "light"
          }
        },
        {
          "output_type": "display_data",
          "data": {
            "image/png": "[encoded data removed]",
            "text/plain": [
              "<Figure size 432x288 with 1 Axes>"
            ]
          },
          "metadata": {
            "needs_background": "light"
          }
        }
      ]
    },
    {
      "cell_type": "code",
      "metadata": {
        "id": "F2Vk66gPLFzT"
      },
      "source": [
        "predictions = model.predict(x_test_seq)\n",
        "predictions = np.argmax(predictions, axis=1)\n",
        "predictions = [class_names[pred] for pred in predictions]"
      ],
      "execution_count": null,
      "outputs": []
    },
    {
      "cell_type": "code",
      "metadata": {
        "colab": {
          "base_uri": "https://localhost:8080/"
        },
        "id": "3PoYtxpXcQHd",
        "outputId": "a6a3308f-1597-4d69-e310-3a279baffb29"
      },
      "source": [
        "from sklearn.metrics import accuracy_score, precision_score, recall_score, f1_score\n",
        "print('\\nAccuracy: {:.2f}\\n'.format(accuracy_score(data_test.Class, predictions)))\n",
        "\n",
        "print('Micro Precision: {:.2f}'.format(precision_score(data_test.Class, predictions, average='micro')))\n",
        "print('Micro Recall: {:.2f}'.format(recall_score(data_test.Class, predictions, average='micro')))\n",
        "print('Micro F1-score: {:.2f}\\n'.format(f1_score(data_test.Class, predictions, average='micro')))\n",
        "\n",
        "print('Macro Precision: {:.2f}'.format(precision_score(data_test.Class, predictions, average='macro')))\n",
        "print('Macro Recall: {:.2f}'.format(recall_score(data_test.Class, predictions, average='macro')))\n",
        "print('Macro F1-score: {:.2f}\\n'.format(f1_score(data_test.Class, predictions, average='macro')))\n",
        "\n",
        "print('Weighted Precision: {:.2f}'.format(precision_score(data_test.Class, predictions, average='weighted')))\n",
        "print('Weighted Recall: {:.2f}'.format(recall_score(data_test.Class, predictions, average='weighted')))\n",
        "print('Weighted F1-score: {:.2f}'.format(f1_score(data_test.Class, predictions, average='weighted')))\n",
        "\n",
        "from sklearn.metrics import classification_report\n",
        "print('\\nClassification Report\\n')\n",
        "print(classification_report(data_test.Class, predictions, target_names=class_names))"
      ],
      "execution_count": null,
      "outputs": [
        {
          "output_type": "stream",
          "name": "stdout",
          "text": [
            "\n",
            "Accuracy: 0.90\n",
            "\n",
            "Micro Precision: 0.90\n",
            "Micro Recall: 0.90\n",
            "Micro F1-score: 0.90\n",
            "\n",
            "Macro Precision: 0.89\n",
            "Macro Recall: 0.90\n",
            "Macro F1-score: 0.89\n",
            "\n",
            "Weighted Precision: 0.91\n",
            "Weighted Recall: 0.90\n",
            "Weighted F1-score: 0.90\n",
            "\n",
            "Classification Report\n",
            "\n",
            "               precision    recall  f1-score   support\n",
            "\n",
            "     Positive       0.94      0.85      0.89      3198\n",
            "Very Positive       0.94      0.88      0.91      2951\n",
            "     Negative       0.67      0.95      0.79      1445\n",
            "Very Negative       0.91      0.96      0.93      3928\n",
            "      Neutral       0.98      0.86      0.92      2280\n",
            "\n",
            "     accuracy                           0.90     13802\n",
            "    macro avg       0.89      0.90      0.89     13802\n",
            " weighted avg       0.91      0.90      0.90     13802\n",
            "\n"
          ]
        }
      ]
    },
    {
      "cell_type": "code",
      "metadata": {
        "colab": {
          "base_uri": "https://localhost:8080/",
          "height": 405
        },
        "id": "QG2Gz3C1nYaW",
        "outputId": "f2a6fbef-950b-4646-ccae-dbabd737340f"
      },
      "source": [
        "def plot_confusion_matrix(y_true, y_pred, classes=class_names,\n",
        "                          normalize=False,\n",
        "                          title=confusion_matrix,\n",
        "                          cmap=plt.cm.Blues):\n",
        "    if not title:\n",
        "        if normalize:\n",
        "            title = 'Normalized confusion matrix'\n",
        "        else:\n",
        "            title = 'Confusion matrix, without normalization'\n",
        "\n",
        "    cm = confusion_matrix(y_true, y_pred)\n",
        "\n",
        "    if normalize:\n",
        "        cm = cm.astype('float') / cm.sum(axis=1)[:, np.newaxis]\n",
        "\n",
        "    fig, ax = plt.subplots()\n",
        "    \n",
        "    fig.set_size_inches(10, 5)\n",
        "    im = ax.imshow(cm, interpolation='nearest', cmap=cmap)\n",
        "    ax.figure.colorbar(im, ax=ax)\n",
        "    ax.grid(False)\n",
        "    \n",
        "    ax.set(xticks=np.arange(cm.shape[1]),\n",
        "           yticks=np.arange(cm.shape[0]),\n",
        "           xticklabels=classes, yticklabels=classes,\n",
        "           title=title,\n",
        "           ylabel='True label',\n",
        "           xlabel='Predicted label')\n",
        "\n",
        "    plt.setp(ax.get_xticklabels(), rotation=45, ha=\"right\",\n",
        "             rotation_mode=\"anchor\")\n",
        "\n",
        "    fmt = '.2f' if normalize else 'd'\n",
        "    thresh = cm.max() / 2.\n",
        "    for i in range(cm.shape[0]):\n",
        "        for j in range(cm.shape[1]):\n",
        "            ax.text(j, i, format(cm[i, j], fmt),\n",
        "                    ha=\"center\", va=\"center\",\n",
        "                    color=\"white\" if cm[i, j] > thresh else \"black\")\n",
        "    fig.tight_layout()\n",
        "    return ax\n",
        "\n",
        "print(\"\\nF1 Score: {:.2f}\".format(f1_score(data_test.Class, predictions, average='micro') * 100))\n",
        "\n",
        "plot_confusion_matrix(data_test.Class, predictions, classes=class_names, normalize=True, title='Normalized confusion matrix')\n",
        "#plot_confusion_matrix(y_true,y_pred,classes=class_names)\n",
        "plt.show()\n",
        "\n"
      ],
      "execution_count": null,
      "outputs": [
        {
          "output_type": "stream",
          "name": "stdout",
          "text": [
            "\n",
            "F1 Score: 89.89\n"
          ]
        },
        {
          "output_type": "display_data",
          "data": {
            "image/png": "[encoded data removed]",
            "text/plain": [
              "<Figure size 720x360 with 2 Axes>"
            ]
          },
          "metadata": {
            "needs_background": "light"
          }
        }
      ]
    },
    {
      "cell_type": "code",
      "metadata": {
        "id": "OSsAqLOz9fMW"
      },
      "source": [
        "from sklearn.metrics import confusion_matrix, classification_report, log_loss, cohen_kappa_score, roc_auc_score, roc_curve\n",
        "from sklearn import metrics\n",
        "\n",
        "cm = confusion_matrix(data_test.Class, predictions)\n",
        "\n",
        "TP = cm[0][0]\n",
        "TN = cm[1][1]\n",
        "FP = cm[0][1]\n",
        "FN = cm[1][0]"
      ],
      "execution_count": null,
      "outputs": []
    },
    {
      "cell_type": "code",
      "metadata": {
        "colab": {
          "base_uri": "https://localhost:8080/"
        },
        "id": "HR0sHMsQiqbn",
        "outputId": "d03bb477-4bc5-415c-873d-e9dfc00d2ff4"
      },
      "source": [
        "print('Sensitivity : ', TP/(TP+FN))\n",
        "print('Specificity : ', TN/(TN+FP))\n",
        "print('false positive rate : ', FP/(FP+TN))\n",
        "print('false negative rate : ', FN/(FN+TP))\n",
        "print('Negative Predictive Value : ', TN/(TN+FN))\n",
        "print('False Discovery rate : ', FP/(TP+FP))"
      ],
      "execution_count": null,
      "outputs": [
        {
          "output_type": "stream",
          "name": "stdout",
          "text": [
            "Sensitivity :  0.9706093189964158\n",
            "Specificity :  0.9626755358462675\n",
            "false positive rate :  0.037324464153732445\n",
            "false negative rate :  0.02939068100358423\n",
            "Negative Predictive Value :  0.9694826944547823\n",
            "False Discovery rate :  0.03595585617657529\n"
          ]
        }
      ]
    },
    {
      "cell_type": "code",
      "metadata": {
        "colab": {
          "base_uri": "https://localhost:8080/"
        },
        "id": "GVmkRF7hw1ho",
        "outputId": "144a8574-aa22-444f-8b9f-ef36ac7583d6"
      },
      "source": [
        "print('Mean Absolute Error:', metrics.mean_absolute_error(y_test,model.predict(x_test_seq)))\n",
        "print('Mean Squared Error:', metrics.mean_squared_error(y_test,model.predict(x_test_seq)))\n",
        "print('Root Mean Squared Error:', np.sqrt(metrics.mean_squared_error(y_test,model.predict(x_test_seq))))\n",
        "print('Cohen_Kappa_Score:', cohen_kappa_score(data_test.Class, predictions))"
      ],
      "execution_count": null,
      "outputs": [
        {
          "output_type": "stream",
          "name": "stdout",
          "text": [
            "Mean Absolute Error: 0.089461535\n",
            "Mean Squared Error: 0.034706254\n",
            "Root Mean Squared Error: 0.18629615\n",
            "Cohen_Kappa_Score: 0.8711077062881124\n"
          ]
        }
      ]
    },
    {
      "cell_type": "code",
      "metadata": {
        "colab": {
          "base_uri": "https://localhost:8080/"
        },
        "id": "BIRLwN7xLXBK",
        "outputId": "4fc91568-29fe-4af5-fcae-ece99ddbb78b"
      },
      "source": [
        "#Positive\n",
        "import time\n",
        "\n",
        "message = ['এটা ভুলে গেলে চলবে না যে ব্যাংকটিতে নুতন পরিচালনা পর্ষদ এসেছে তাদের ব্যাংকটির সব কিছু বুঝে উঠতে একটু সময় লাগবে এটাই স্বাভাবিক']\n",
        "\n",
        "seq = tokenizer.texts_to_sequences(message)\n",
        "padded = pad_sequences(seq, maxlen=500)\n",
        "\n",
        "start_time = time.time()\n",
        "pred = model.predict(padded)\n",
        "\n",
        "print('Message: ' + str(message))\n",
        "print('predicted: {} ({:.2f} seconds)'.format(class_names[np.argmax(pred)], (time.time() - start_time)))"
      ],
      "execution_count": null,
      "outputs": [
        {
          "output_type": "stream",
          "name": "stdout",
          "text": [
            "Message: ['এটা ভুলে গেলে চলবে না যে ব্যাংকটিতে নুতন পরিচালনা পর্ষদ এসেছে তাদের ব্যাংকটির সব কিছু বুঝে উঠতে একটু সময় লাগবে এটাই স্বাভাবিক']\n",
            "predicted: Positive (0.14 seconds)\n"
          ]
        }
      ]
    },
    {
      "cell_type": "code",
      "source": [
        "#Negative\n",
        "import time\n",
        "\n",
        "message = ['বিগত কয়েক বছরের অভিজ্ঞতা বলে ব্যাংকসহ শ্যেনদৃষ্টি যেখানে সর্বনাশ সেখানে']\n",
        "\n",
        "seq = tokenizer.texts_to_sequences(message)\n",
        "padded = pad_sequences(seq, maxlen=500)\n",
        "\n",
        "start_time = time.time()\n",
        "pred = model.predict(padded)\n",
        "\n",
        "print('Message: ' + str(message))\n",
        "print('predicted: {} ({:.2f} seconds)'.format(class_names[np.argmax(pred)], (time.time() - start_time)))"
      ],
      "metadata": {
        "colab": {
          "base_uri": "https://localhost:8080/"
        },
        "id": "QV7DSpSYDtzr",
        "outputId": "658f867e-771d-4c62-f8be-3f7f9c8f7826"
      },
      "execution_count": null,
      "outputs": [
        {
          "output_type": "stream",
          "name": "stdout",
          "text": [
            "Message: ['বিগত কয়েক বছরের অভিজ্ঞতা বলে ব্যাংকসহ শ্যেনদৃষ্টি যেখানে সর্বনাশ সেখানে']\n",
            "predicted: Negative (0.10 seconds)\n"
          ]
        }
      ]
    },
    {
      "cell_type": "code",
      "source": [
        "#Neutral\n",
        "import time\n",
        "\n",
        "message = ['আমি চাইতে সমস্যা কি দাম চাইলাম যা দ্যান']\n",
        "\n",
        "seq = tokenizer.texts_to_sequences(message)\n",
        "padded = pad_sequences(seq, maxlen=500)\n",
        "\n",
        "start_time = time.time()\n",
        "pred = model.predict(padded)\n",
        "\n",
        "print('Message: ' + str(message))\n",
        "print('predicted: {} ({:.2f} seconds)'.format(class_names[np.argmax(pred)], (time.time() - start_time)))"
      ],
      "metadata": {
        "colab": {
          "base_uri": "https://localhost:8080/"
        },
        "id": "pQB6cpFmHo6u",
        "outputId": "2c0fa191-57c7-4481-c4da-56363500d362"
      },
      "execution_count": null,
      "outputs": [
        {
          "output_type": "stream",
          "name": "stdout",
          "text": [
            "Message: ['আমি চাইতে সমস্যা কি দাম চাইলাম যা দ্যান']\n",
            "predicted: Neutral (0.10 seconds)\n"
          ]
        }
      ]
    },
    {
      "cell_type": "code",
      "source": [
        "#Very Positive\n",
        "import time\n",
        "\n",
        "message = ['তাহলে তো রডের দাম আরো কমবে']\n",
        "\n",
        "seq = tokenizer.texts_to_sequences(message)\n",
        "padded = pad_sequences(seq, maxlen=500)\n",
        "\n",
        "start_time = time.time()\n",
        "pred = model.predict(padded)\n",
        "\n",
        "print('Message: ' + str(message))\n",
        "print('predicted: {} ({:.2f} seconds)'.format(class_names[np.argmax(pred)], (time.time() - start_time)))"
      ],
      "metadata": {
        "colab": {
          "base_uri": "https://localhost:8080/"
        },
        "id": "BG6hdNVWHt0u",
        "outputId": "bc499b4f-070e-41ab-9681-05ccfe36ff27"
      },
      "execution_count": null,
      "outputs": [
        {
          "output_type": "stream",
          "name": "stdout",
          "text": [
            "Message: ['তাহলে তো রডের দাম আরো কমবে']\n",
            "predicted: Very Positive (0.10 seconds)\n"
          ]
        }
      ]
    },
    {
      "cell_type": "code",
      "source": [
        "#Very Negative\n",
        "import time\n",
        "\n",
        "message = ['জনসংখ্যা আর আয়তনের হিসাবে পাকিস্তানই বেশী পেয়েছে']\n",
        "\n",
        "seq = tokenizer.texts_to_sequences(message)\n",
        "padded = pad_sequences(seq, maxlen=500)\n",
        "\n",
        "start_time = time.time()\n",
        "pred = model.predict(padded)\n",
        "\n",
        "print('Message: ' + str(message))\n",
        "print('predicted: {} ({:.2f} seconds)'.format(class_names[np.argmax(pred)], (time.time() - start_time)))"
      ],
      "metadata": {
        "colab": {
          "base_uri": "https://localhost:8080/"
        },
        "id": "sDJyuYA3H5aR",
        "outputId": "c0acb52a-49a8-4e4d-ceed-45a70941613a"
      },
      "execution_count": null,
      "outputs": [
        {
          "output_type": "stream",
          "name": "stdout",
          "text": [
            "Message: ['জনসংখ্যা আর আয়তনের হিসাবে পাকিস্তানই বেশী পেয়েছে']\n",
            "predicted: Very Negative (0.11 seconds)\n"
          ]
        }
      ]
    }
  ]
}